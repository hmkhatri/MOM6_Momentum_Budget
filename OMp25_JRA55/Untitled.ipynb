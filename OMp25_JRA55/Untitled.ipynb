{
 "cells": [
  {
   "cell_type": "markdown",
   "metadata": {},
   "source": [
    "In this notebook, we examine the vorticity budget terms in different filtered deg ranges, e.g. $1^{\\circ}-2^{\\circ}$, $2^{\\circ}-3^{\\circ}$ and so on. We then compare the same against SSH, SST and SSS patterns. The idea is to identify if vorticity budget analyses can tell us something about regional variability."
   ]
  },
  {
   "cell_type": "code",
   "execution_count": 1,
   "metadata": {},
   "outputs": [],
   "source": [
    "import xarray as xr\n",
    "import numpy as np\n",
    "from xgcm import Grid\n",
    "import xesmf as xe\n",
    "import gcm_filters\n",
    "%matplotlib inline\n",
    "import warnings\n",
    "warnings.filterwarnings('ignore')\n",
    "import matplotlib.pyplot as plt\n",
    "import matplotlib.ticker as mticker\n",
    "from cartopy.mpl.gridliner import LONGITUDE_FORMATTER, LATITUDE_FORMATTER\n",
    "import cartopy.crs as ccrs\n",
    "import cartopy.feature as cfeature"
   ]
  },
  {
   "cell_type": "code",
   "execution_count": 2,
   "metadata": {},
   "outputs": [],
   "source": [
    "def plot_sec(ax, da, vmin=-999, vmax=999, vstep=1, lat_lon_ext = [-180, 180, -85., 85.],\n",
    "             lon='geolon', lat='geolat', cmap='RdBu_r', title='what is it?'):\n",
    "    \n",
    "    contours = np.arange(vmin, vmax+vstep, vstep)\n",
    "    \n",
    "    p = da.plot(ax=ax, x=lon, y=lat, vmin=vmin, vmax=vmax, cmap=cmap, \n",
    "                transform=ccrs.PlateCarree(), add_labels=False, add_colorbar=False)\n",
    "    \n",
    "    # add separate colorbar\n",
    "    cb = plt.colorbar(p, ax=ax, extend='both', orientation=\"horizontal\", shrink=0.6)\n",
    "    cb.ax.tick_params(labelsize=12)\n",
    "    \n",
    "    ax.set_extent(lat_lon_ext, crs=ccrs.PlateCarree())\n",
    "    \n",
    "    # parallels/meridiens\n",
    "    gl = ax.gridlines(crs=ccrs.PlateCarree(), draw_labels=True,\n",
    "                      linewidth=2, color='gray', alpha=0.5, linestyle='--')\n",
    "    gl.xlabels_top = False\n",
    "    gl.ylabels_right = False\n",
    "    gl.ylocator = mticker.FixedLocator(np.arange(-80,81,20))\n",
    "    #gl.xlocator = mticker.FixedLocator(np.arange(-170,180,60))\n",
    "    gl.xformatter = LONGITUDE_FORMATTER\n",
    "    gl.yformatter = LATITUDE_FORMATTER\n",
    "    gl.xlabel_style = {'size': 12, 'color': 'black'}\n",
    "    gl.ylabel_style = {'size': 12, 'color': 'black'}\n",
    "    \n",
    "    #ax.set_adjustable('datalim')\n",
    "    \n",
    "    ax.set_aspect(1.0)\n",
    "\n",
    "    #p.axes.gridlines(color='black', alpha=0.5, linestyle='--')\n",
    "    \n",
    "    _ = plt.title(title, fontsize=14)\n",
    "    return fig"
   ]
  },
  {
   "cell_type": "code",
   "execution_count": 3,
   "metadata": {},
   "outputs": [
    {
     "name": "stdout",
     "output_type": "stream",
     "text": [
      "<xarray.Dataset>\n",
      "Dimensions:    (filter: 10, season: 4, xh: 1440, xq: 1440, yh: 1080, yq: 1080)\n",
      "Coordinates:\n",
      "  * xq         (xq) float64 -299.6 -299.3 -299.1 -298.9 ... 59.66 59.91 60.16\n",
      "  * yq         (yq) float64 -80.35 -80.27 -80.19 -80.11 ... 89.78 89.89 90.0\n",
      "  * season     (season) object 'DJF' 'JJA' 'MAM' 'SON'\n",
      "    geolat_c   (yq, xq) float64 ...\n",
      "    geolon_c   (yq, xq) float64 ...\n",
      "  * filter     (filter) float64 1.0 2.0 3.0 4.0 5.0 6.0 7.0 8.0 9.0 10.0\n",
      "  * xh         (xh) float64 -299.7 -299.5 -299.2 -299.0 ... 59.53 59.78 60.03\n",
      "  * yh         (yh) float64 -80.39 -80.31 -80.23 -80.15 ... 89.73 89.84 89.95\n",
      "    geolat     (yh, xh) float64 ...\n",
      "    geolon     (yh, xh) float64 ...\n",
      "Data variables:\n",
      "    beta_V     (filter, season, yq, xq) float64 ...\n",
      "    BPT        (filter, season, yq, xq) float64 ...\n",
      "    Mass_flux  (filter, season, yq, xq) float64 ...\n",
      "    eta_dt     (filter, season, yq, xq) float64 ...\n",
      "    Curl_dudt  (filter, season, yq, xq) float64 ...\n",
      "    Curl_taus  (filter, season, yq, xq) float64 ...\n",
      "    Curl_taub  (filter, season, yq, xq) float64 ...\n",
      "    Curl_Adv   (filter, season, yq, xq) float64 ...\n",
      "    Curl_diff  (filter, season, yq, xq) float64 ...\n",
      "    tos        (filter, season, yh, xh) float64 ...\n",
      "    sos        (filter, season, yh, xh) float64 ...\n",
      "    zos        (filter, season, yh, xh) float64 ...\n",
      "    deptho     (filter, yh, xh) float64 ...\n"
     ]
    }
   ],
   "source": [
    "# Read Data\n",
    "\n",
    "ppdir = \"/archive/Hemant.Khatri/MOM_Budget/OM4p25_JRA55/v3_FW_adjust_True/Filter_Data/\"\n",
    "\n",
    "ds = xr.open_dataset(ppdir + \"OMp25_JRA55_Vorticity_Guassian_Fixed_Factor.nc\")\n",
    "ds1 =  xr.open_dataset(ppdir + \"OMp25_JRA55_Tracer_Guassian_Fixed_Factor.nc\")\n",
    "ds = xr.merge([ds, ds1])\n",
    "\n",
    "print(ds)"
   ]
  },
  {
   "cell_type": "code",
   "execution_count": null,
   "metadata": {},
   "outputs": [],
   "source": [
    "# Global map 1/4 deg (tripolar grid algorithm)\n",
    "\n",
    "max_r = 1.e-9\n",
    "\n",
    "grid1 = plt.GridSpec(2, 3, wspace=0.1, hspace=0.1)\n",
    "fig = plt.figure(figsize=[18,10])\n",
    "\n",
    "lat_lon_ext = [-180, 180, -85., 85.]\n",
    "\n",
    "for i in range(0, 3):\n",
    "        \n",
    "    BPT1 = ds_filter[i]['BPT'].mean('season').isel(yq=slice(0,1079))\n",
    "    ax = fig.add_subplot(grid1[j, k], projection=ccrs.Robinson(),facecolor='grey')\n",
    "    _ = plot_sec(ax, BPT1, vmin=-max_r, vmax=max_r, vstep=2.e-3*max_r, lat_lon_ext = lat_lon_ext,\n",
    "                 lon='geolon_c', lat='geolat_c', cmap='RdBu_r', \n",
    "                 title=r'$\\dfrac{1}{\\rho_o}\\overline{J(p_b, H)}$, filter_scale = ' + str(filter_scale[i]))"
   ]
  },
  {
   "cell_type": "code",
   "execution_count": 10,
   "metadata": {},
   "outputs": [
    {
     "name": "stdout",
     "output_type": "stream",
     "text": [
      "0\n",
      "4\n",
      "8\n"
     ]
    }
   ],
   "source": [
    "for i in range(0, len(ds.filter), 4):\n",
    "    print(i)"
   ]
  },
  {
   "cell_type": "code",
   "execution_count": null,
   "metadata": {},
   "outputs": [],
   "source": []
  }
 ],
 "metadata": {
  "kernelspec": {
   "display_name": "Python 3",
   "language": "python",
   "name": "python3"
  },
  "language_info": {
   "codemirror_mode": {
    "name": "ipython",
    "version": 3
   },
   "file_extension": ".py",
   "mimetype": "text/x-python",
   "name": "python",
   "nbconvert_exporter": "python",
   "pygments_lexer": "ipython3",
   "version": "3.7.9"
  }
 },
 "nbformat": 4,
 "nbformat_minor": 4
}
