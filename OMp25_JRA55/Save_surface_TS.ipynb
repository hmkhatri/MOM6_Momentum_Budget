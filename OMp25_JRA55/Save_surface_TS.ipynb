{
 "cells": [
  {
   "cell_type": "markdown",
   "metadata": {},
   "source": [
    "This notebook for saving surface T, S, and SSH (5-yr averages)."
   ]
  },
  {
   "cell_type": "code",
   "execution_count": 6,
   "metadata": {},
   "outputs": [],
   "source": [
    "import xarray as xr\n",
    "import numpy as np\n",
    "from xgcm import Grid\n",
    "import gcm_filters\n",
    "%matplotlib inline\n",
    "import warnings\n",
    "warnings.filterwarnings('ignore')\n",
    "import glob, os"
   ]
  },
  {
   "cell_type": "code",
   "execution_count": 8,
   "metadata": {},
   "outputs": [
    {
     "name": "stdout",
     "output_type": "stream",
     "text": [
      "Year Running =  19580101-19621231\n",
      "CPU times: user 2min 45s, sys: 1min 14s, total: 4min\n",
      "Wall time: 4min 2s\n",
      "Year Running =  19630101-19671231\n",
      "CPU times: user 2min 45s, sys: 1min 12s, total: 3min 58s\n",
      "Wall time: 3min 59s\n",
      "Year Running =  19680101-19721231\n",
      "CPU times: user 3min, sys: 1min 17s, total: 4min 18s\n",
      "Wall time: 4min 19s\n",
      "Year Running =  19730101-19771231\n",
      "CPU times: user 2min 47s, sys: 1min 10s, total: 3min 58s\n",
      "Wall time: 3min 59s\n",
      "Year Running =  19780101-19821231\n",
      "CPU times: user 2min 45s, sys: 1min 9s, total: 3min 54s\n",
      "Wall time: 3min 56s\n",
      "Year Running =  19830101-19871231\n",
      "CPU times: user 2min 45s, sys: 1min 8s, total: 3min 53s\n",
      "Wall time: 3min 55s\n",
      "Year Running =  19880101-19921231\n",
      "CPU times: user 2min 50s, sys: 1min 10s, total: 4min 1s\n",
      "Wall time: 4min 3s\n",
      "Year Running =  19930101-19971231\n",
      "CPU times: user 2min 52s, sys: 1min 10s, total: 4min 3s\n",
      "Wall time: 4min 5s\n",
      "Year Running =  19980101-20021231\n",
      "CPU times: user 2min 44s, sys: 1min 8s, total: 3min 52s\n",
      "Wall time: 3min 56s\n",
      "Year Running =  20030101-20071231\n",
      "CPU times: user 2min 56s, sys: 1min 14s, total: 4min 11s\n",
      "Wall time: 4min 12s\n",
      "Year Running =  20080101-20121231\n",
      "CPU times: user 2min 53s, sys: 1min 14s, total: 4min 7s\n",
      "Wall time: 4min 14s\n",
      "File Saved Successfully\n"
     ]
    }
   ],
   "source": [
    "path_ssh = \"/archive/Raphael.Dussin/FMS2019.01.03_devgfdl_20210308/OM4p25_JRA55do1.4_0netfw_cycle6_extradiags_v3/\" + \\\n",
    "\"gfdl.ncrc4-intel18-prod/pp/ocean_daily/ts/daily/5yr/\"\n",
    "\n",
    "filelist_ssh = glob.glob(path_ssh + \"*.zos.nc\")\n",
    "filelist_ssh.sort()\n",
    "filelist_sst = glob.glob(path_ssh + \"*.tos.nc\")\n",
    "filelist_sst.sort()\n",
    "filelist_sss = glob.glob(path_ssh + \"*.sos.nc\")\n",
    "filelist_sss.sort()\n",
    "\n",
    "path_grid = \"/archive/Raphael.Dussin/FMS2019.01.03_devgfdl_20210308/OM4p25_JRA55do1.4_0netfw_cycle6_extradiags_v3/\" + \\\n",
    "\"gfdl.ncrc4-intel18-prod/pp/ocean_daily/\"\n",
    "ds_grid = xr.open_dataset(path_grid + \"ocean_daily.static.nc\")\n",
    "\n",
    "save_path = \"/archive/Hemant.Khatri/MOM_Budget/OM4p25_JRA55/v3_FW_adjust_True/\"\n",
    "ds_full = []\n",
    "\n",
    "for i in range(0, len(filelist_ssh) - 1):\n",
    "    \n",
    "    tim_yr = filelist_ssh[i][-24:-7]\n",
    "    print(\"Year Running = \", tim_yr)\n",
    "    \n",
    "    ds_ssh = xr.open_dataset(filelist_ssh[i], decode_times=False)\n",
    "    ds_sst = xr.open_dataset(filelist_sst[i], decode_times=False)\n",
    "    ds_sss = xr.open_dataset(filelist_sss[i], decode_times=False)\n",
    "    \n",
    "    %time ds = xr.merge([ds_ssh, ds_sst, ds_sss]).mean('time') #chunk({'xh':360, 'yh':360})\n",
    "    \n",
    "    ds_full.append(ds)\n",
    "\n",
    "ds1 = xr.concat(ds_full, dim='time')\n",
    "\n",
    "ds_save = xr.merge([ds1, ds_grid])\n",
    "\n",
    "times = np.linspace(1960.5, 2009.5, 11)\n",
    "ds_save.coords['time'] = times\n",
    "ds_save.time.attrs['units'] = \"year\"\n",
    "    \n",
    "save_file = save_path + \"OM4p25_JRA55_TS.nc\"\n",
    "\n",
    "ds_save = ds_save.load()\n",
    "ds_save.to_netcdf(save_file)\n",
    "\n",
    "print(\"File Saved Successfully\")"
   ]
  },
  {
   "cell_type": "code",
   "execution_count": 4,
   "metadata": {},
   "outputs": [
    {
     "data": {
      "text/plain": [
       "array([1960.5, 1965.4, 1970.3, 1975.2, 1980.1, 1985. , 1989.9, 1994.8,\n",
       "       1999.7, 2004.6, 2009.5])"
      ]
     },
     "execution_count": 4,
     "metadata": {},
     "output_type": "execute_result"
    }
   ],
   "source": [
    "times = np.linspace(1960.5, 2009.5, 11)\n",
    "times"
   ]
  }
 ],
 "metadata": {
  "kernelspec": {
   "display_name": "Python 3",
   "language": "python",
   "name": "python3"
  },
  "language_info": {
   "codemirror_mode": {
    "name": "ipython",
    "version": 3
   },
   "file_extension": ".py",
   "mimetype": "text/x-python",
   "name": "python",
   "nbconvert_exporter": "python",
   "pygments_lexer": "ipython3",
   "version": "3.7.9"
  }
 },
 "nbformat": 4,
 "nbformat_minor": 4
}
