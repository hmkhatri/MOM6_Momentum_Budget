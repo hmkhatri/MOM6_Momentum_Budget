{
 "cells": [
  {
   "cell_type": "markdown",
   "metadata": {},
   "source": [
    "This notebook for saving surface T, S, and SSH (5-yr averages)."
   ]
  },
  {
   "cell_type": "code",
   "execution_count": 1,
   "metadata": {},
   "outputs": [],
   "source": [
    "import xarray as xr\n",
    "import numpy as np\n",
    "from xgcm import Grid\n",
    "import gcm_filters\n",
    "%matplotlib inline\n",
    "import warnings\n",
    "warnings.filterwarnings('ignore')\n",
    "import glob, os"
   ]
  },
  {
   "cell_type": "code",
   "execution_count": 3,
   "metadata": {},
   "outputs": [
    {
     "name": "stdout",
     "output_type": "stream",
     "text": [
      "Year Running =  19580101-19621231\n",
      "CPU times: user 4min 14s, sys: 51.4 s, total: 5min 5s\n",
      "Wall time: 5min 20s\n",
      "Year Running =  19630101-19671231\n",
      "CPU times: user 4min 13s, sys: 48.4 s, total: 5min 2s\n",
      "Wall time: 5min 19s\n",
      "Year Running =  19680101-19721231\n",
      "CPU times: user 4min 13s, sys: 47.3 s, total: 5min\n",
      "Wall time: 5min 23s\n",
      "Year Running =  19730101-19771231\n",
      "CPU times: user 4min 12s, sys: 47.3 s, total: 4min 59s\n",
      "Wall time: 5min 12s\n",
      "Year Running =  19780101-19821231\n",
      "CPU times: user 4min 10s, sys: 47 s, total: 4min 57s\n",
      "Wall time: 5min 12s\n",
      "Year Running =  19830101-19871231\n",
      "CPU times: user 4min 7s, sys: 46.7 s, total: 4min 54s\n",
      "Wall time: 5min 2s\n",
      "Year Running =  19880101-19921231\n",
      "CPU times: user 4min 7s, sys: 46.4 s, total: 4min 54s\n",
      "Wall time: 5min 1s\n",
      "Year Running =  19930101-19971231\n",
      "CPU times: user 4min 10s, sys: 46.9 s, total: 4min 57s\n",
      "Wall time: 5min 9s\n",
      "Year Running =  19980101-20021231\n",
      "CPU times: user 4min 10s, sys: 46.5 s, total: 4min 56s\n",
      "Wall time: 5min 7s\n",
      "Year Running =  20030101-20071231\n",
      "CPU times: user 4min 8s, sys: 46.5 s, total: 4min 55s\n",
      "Wall time: 5min 3s\n",
      "Year Running =  20080101-20121231\n",
      "CPU times: user 4min 8s, sys: 46.8 s, total: 4min 55s\n",
      "Wall time: 5min 1s\n",
      "Year Running =  20130101-20171231\n",
      "CPU times: user 4min 6s, sys: 47 s, total: 4min 53s\n",
      "Wall time: 5min 3s\n",
      "File Saved Successfully\n"
     ]
    }
   ],
   "source": [
    "path_ssh = \"/archive/Raphael.Dussin/FMS2019.01.03_devgfdl_20210308/OM4p25_JRA55do1.4_0netfw_cycle6_extradiags_v3/\" + \\\n",
    "\"gfdl.ncrc4-intel18-prod/pp/ocean_daily/ts/daily/5yr/\"\n",
    "\n",
    "filelist_ssh = glob.glob(path_ssh + \"*.zos.nc\")\n",
    "filelist_ssh.sort()\n",
    "filelist_sst = glob.glob(path_ssh + \"*.tos.nc\")\n",
    "filelist_sst.sort()\n",
    "filelist_sss = glob.glob(path_ssh + \"*.sos.nc\")\n",
    "filelist_sss.sort()\n",
    "filelist_ssu = glob.glob(path_ssh + \"*.ssu.nc\")\n",
    "filelist_ssu.sort()\n",
    "filelist_ssv = glob.glob(path_ssh + \"*.ssv.nc\")\n",
    "filelist_ssv.sort()\n",
    "\n",
    "path_grid = \"/archive/Raphael.Dussin/FMS2019.01.03_devgfdl_20210308/OM4p25_JRA55do1.4_0netfw_cycle6_extradiags_v3/\" + \\\n",
    "\"gfdl.ncrc4-intel18-prod/pp/ocean_daily/\"\n",
    "ds_grid = xr.open_dataset(path_grid + \"ocean_daily.static.nc\")\n",
    "\n",
    "save_path = \"/archive/Hemant.Khatri/MOM_Budget/OM4p25_JRA55/v3_FW_adjust_True/\"\n",
    "ds_full = []\n",
    "\n",
    "for i in range(0, len(filelist_ssh)):\n",
    "    \n",
    "    tim_yr = filelist_ssh[i][-24:-7]\n",
    "    print(\"Year Running = \", tim_yr)\n",
    "    \n",
    "    ds_ssh = xr.open_dataset(filelist_ssh[i], decode_times=False)\n",
    "    ds_sst = xr.open_dataset(filelist_sst[i], decode_times=False)\n",
    "    ds_sss = xr.open_dataset(filelist_sss[i], decode_times=False)\n",
    "    ds_ssu = xr.open_dataset(filelist_ssu[i], decode_times=False)\n",
    "    ds_ssv = xr.open_dataset(filelist_ssv[i], decode_times=False)\n",
    "    \n",
    "    %time ds = xr.merge([ds_ssh, ds_sst, ds_sss, ds_ssu, ds_ssv]).mean('time') #chunk({'xh':360, 'yh':360})\n",
    "    \n",
    "    ds_full.append(ds)\n",
    "\n",
    "ds1 = xr.concat(ds_full, dim='time')\n",
    "\n",
    "ds_save = xr.merge([ds1, ds_grid])\n",
    "\n",
    "times = np.linspace(1960.0, 2015.0, 12)\n",
    "ds_save.coords['time'] = times\n",
    "ds_save.time.attrs['units'] = \"year\"\n",
    "    \n",
    "save_file = save_path + \"OM4p25_JRA55_TS_5yr.nc\"\n",
    "\n",
    "ds_save = ds_save.load()\n",
    "ds_save.to_netcdf(save_file)\n",
    "\n",
    "print(\"File Saved Successfully\")"
   ]
  },
  {
   "cell_type": "code",
   "execution_count": 2,
   "metadata": {},
   "outputs": [
    {
     "data": {
      "text/plain": [
       "array([1960., 1965., 1970., 1975., 1980., 1985., 1990., 1995., 2000.,\n",
       "       2005., 2010., 2015.])"
      ]
     },
     "execution_count": 2,
     "metadata": {},
     "output_type": "execute_result"
    }
   ],
   "source": [
    "times = np.linspace(1960.0, 2015.0, 12)\n",
    "times"
   ]
  }
 ],
 "metadata": {
  "kernelspec": {
   "display_name": "Python 3",
   "language": "python",
   "name": "python3"
  },
  "language_info": {
   "codemirror_mode": {
    "name": "ipython",
    "version": 3
   },
   "file_extension": ".py",
   "mimetype": "text/x-python",
   "name": "python",
   "nbconvert_exporter": "python",
   "pygments_lexer": "ipython3",
   "version": "3.7.9"
  }
 },
 "nbformat": 4,
 "nbformat_minor": 4
}
