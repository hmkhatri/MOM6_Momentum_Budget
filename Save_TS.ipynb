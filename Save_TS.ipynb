{
 "cells": [
  {
   "cell_type": "markdown",
   "metadata": {},
   "source": [
    "This notebook is for saving 5-yr averages of SST, SSS and SSH from 1/4 and 1/8 simulations."
   ]
  },
  {
   "cell_type": "code",
   "execution_count": 1,
   "metadata": {},
   "outputs": [
    {
     "data": {
      "text/html": [
       "<table style=\"border: 2px solid white;\">\n",
       "<tr>\n",
       "<td style=\"vertical-align: top; border: 0px solid white\">\n",
       "<h3 style=\"text-align: left;\">Client</h3>\n",
       "<ul style=\"text-align: left; list-style: none; margin: 0; padding: 0;\">\n",
       "  <li><b>Scheduler: </b>tcp://127.0.0.1:35698</li>\n",
       "  <li><b>Dashboard: </b><a href='http://127.0.0.1:8787/status' target='_blank'>http://127.0.0.1:8787/status</a></li>\n",
       "</ul>\n",
       "</td>\n",
       "<td style=\"vertical-align: top; border: 0px solid white\">\n",
       "<h3 style=\"text-align: left;\">Cluster</h3>\n",
       "<ul style=\"text-align: left; list-style:none; margin: 0; padding: 0;\">\n",
       "  <li><b>Workers: </b>4</li>\n",
       "  <li><b>Cores: </b>16</li>\n",
       "  <li><b>Memory: </b>406.01 GB</li>\n",
       "</ul>\n",
       "</td>\n",
       "</tr>\n",
       "</table>"
      ],
      "text/plain": [
       "<Client: 'tcp://127.0.0.1:35698' processes=4 threads=16, memory=406.01 GB>"
      ]
     },
     "execution_count": 1,
     "metadata": {},
     "output_type": "execute_result"
    }
   ],
   "source": [
    "import xarray as xr\n",
    "import numpy as np\n",
    "from xgcm import Grid\n",
    "import filter\n",
    "from dask.diagnostics import ProgressBar\n",
    "%matplotlib inline\n",
    "import warnings\n",
    "warnings.filterwarnings('ignore')\n",
    "import glob, os\n",
    "\n",
    "from dask.distributed import Client\n",
    "from dask.distributed import LocalCluster\n",
    "cluster = LocalCluster()\n",
    "client = Client(cluster)\n",
    "\n",
    "client"
   ]
  },
  {
   "cell_type": "code",
   "execution_count": 2,
   "metadata": {},
   "outputs": [
    {
     "name": "stdout",
     "output_type": "stream",
     "text": [
      "Year Running =  02010101-02051231\n",
      "Year Running =  02060101-02101231\n",
      "Year Running =  02110101-02151231\n",
      "Year Running =  02160101-02201231\n",
      "Year Running =  02210101-02251231\n",
      "Year Running =  02260101-02301231\n",
      "Year Running =  02310101-02351231\n",
      "Year Running =  02360101-02401231\n",
      "Year Running =  02410101-02451231\n",
      "File Saved Successfully\n"
     ]
    }
   ],
   "source": [
    "# This is for 1/8 deg run\n",
    "\n",
    "path_ssh = \"/archive/Raphael.Dussin/FMS2019.01.03_devgfdl_20210308/CM4_piControl_c192_OM4p125_v3/\" + \\\n",
    "\"gfdl.ncrc4-intel18-prod-openmp/pp/ocean_daily/ts/daily/5yr/\"\n",
    "\n",
    "filelist_ssh = glob.glob(path_ssh + \"*.zos.nc\")\n",
    "filelist_ssh.sort()\n",
    "filelist_sst = glob.glob(path_ssh + \"*.tos.nc\")\n",
    "filelist_sst.sort()\n",
    "filelist_sss = glob.glob(path_ssh + \"*.sos.nc\")\n",
    "filelist_sss.sort()\n",
    "\n",
    "path_grid = \"/archive/Raphael.Dussin/FMS2019.01.03_devgfdl_20210308/CM4_piControl_c192_OM4p125_v3/\" + \\\n",
    "\"gfdl.ncrc4-intel18-prod-openmp/pp/ocean_monthly/\"\n",
    "ds_grid = xr.open_dataset(path_grid + \"ocean_monthly.static.nc\")\n",
    "ds_grid1 = ds_grid.isel(xq = slice(0,2880), yq=slice(0,2240))\n",
    "\n",
    "save_path = \"/archive/Hemant.Khatri/MOM_Budget/\"\n",
    "ds_full = []\n",
    "# Loop for reading data and saving 5-yr averages (100 - 145 years)\n",
    "for i in range(19, 28):\n",
    "    \n",
    "    tim_yr = filelist_ssh[i][-24:-7]\n",
    "    print(\"Year Running = \", tim_yr)\n",
    "    \n",
    "    ds_ssh = xr.open_dataset(filelist_ssh[i], decode_times=False)\n",
    "    ds_sst = xr.open_dataset(filelist_sst[i], decode_times=False)\n",
    "    ds_sss = xr.open_dataset(filelist_sss[i+1], decode_times=False)\n",
    "    \n",
    "    %time ds = xr.merge([ds_ssh, ds_sst, ds_sss]).mean('time')\n",
    "    \n",
    "    ds_full.append(ds)\n",
    "    \n",
    "ds1 = xr.concat(ds_full, dim='time')\n",
    "\n",
    "ds_save = xr.merge([ds1, ds_grid1])\n",
    "\n",
    "times = np.linspace(102.5, 142.5, 9)\n",
    "ds_save.coords['time'] = times\n",
    "ds_save.time.attrs['units'] = \"years since 0001\"\n",
    "    \n",
    "save_file = save_path + \"OM4p125/OM4p125_TS.nc\"\n",
    "\n",
    "ds_save = ds_save.load()\n",
    "ds_save.to_netcdf(save_file)\n",
    "\n",
    "print(\"File Saved Successfully\")"
   ]
  },
  {
   "cell_type": "code",
   "execution_count": 11,
   "metadata": {},
   "outputs": [
    {
     "name": "stdout",
     "output_type": "stream",
     "text": [
      "Year Running =  01010101-01051231\n",
      "Year Running =  01060101-01101231\n",
      "Year Running =  01110101-01151231\n",
      "Year Running =  01160101-01201231\n",
      "Year Running =  01210101-01251231\n",
      "Year Running =  01260101-01301231\n",
      "Year Running =  01310101-01351231\n",
      "Year Running =  01360101-01401231\n",
      "Year Running =  01410101-01451231\n"
     ]
    },
    {
     "ename": "AttributeError",
     "evalue": "'list' object has no attribute 'concat'",
     "output_type": "error",
     "traceback": [
      "\u001b[0;31m---------------------------------------------------------------------------\u001b[0m",
      "\u001b[0;31mAttributeError\u001b[0m                            Traceback (most recent call last)",
      "\u001b[0;32m<ipython-input-11-b686c8165505>\u001b[0m in \u001b[0;36m<module>\u001b[0;34m()\u001b[0m\n\u001b[1;32m     30\u001b[0m     \u001b[0mds_full\u001b[0m\u001b[0;34m.\u001b[0m\u001b[0mappend\u001b[0m\u001b[0;34m(\u001b[0m\u001b[0mds\u001b[0m\u001b[0;34m)\u001b[0m\u001b[0;34m\u001b[0m\u001b[0;34m\u001b[0m\u001b[0m\n\u001b[1;32m     31\u001b[0m \u001b[0;34m\u001b[0m\u001b[0m\n\u001b[0;32m---> 32\u001b[0;31m \u001b[0mds_full\u001b[0m\u001b[0;34m.\u001b[0m\u001b[0mconcat\u001b[0m\u001b[0;34m(\u001b[0m\u001b[0mdim\u001b[0m\u001b[0;34m=\u001b[0m\u001b[0;34m'time'\u001b[0m\u001b[0;34m)\u001b[0m\u001b[0;34m\u001b[0m\u001b[0;34m\u001b[0m\u001b[0m\n\u001b[0m\u001b[1;32m     33\u001b[0m \u001b[0;34m\u001b[0m\u001b[0m\n\u001b[1;32m     34\u001b[0m \u001b[0mds_save\u001b[0m \u001b[0;34m=\u001b[0m \u001b[0mxr\u001b[0m\u001b[0;34m.\u001b[0m\u001b[0mmerge\u001b[0m\u001b[0;34m(\u001b[0m\u001b[0;34m[\u001b[0m\u001b[0mds_full\u001b[0m\u001b[0;34m,\u001b[0m \u001b[0mds_grid1\u001b[0m\u001b[0;34m]\u001b[0m\u001b[0;34m)\u001b[0m\u001b[0;34m\u001b[0m\u001b[0;34m\u001b[0m\u001b[0m\n",
      "\u001b[0;31mAttributeError\u001b[0m: 'list' object has no attribute 'concat'"
     ]
    }
   ],
   "source": [
    "# This is for 1/4 deg run\n",
    "\n",
    "path_ssh = \"/archive/Raphael.Dussin/FMS2019.01.03_devgfdl_20210308/CM4_piControl_c192_OM4p25/\" + \\\n",
    "\"gfdl.ncrc4-intel18-prod-openmp/pp/ocean_daily/ts/daily/5yr/\"\n",
    "\n",
    "filelist_ssh = glob.glob(path_ssh + \"*.zos.nc\")\n",
    "filelist_ssh.sort()\n",
    "filelist_sst = glob.glob(path_ssh + \"*.tos.nc\")\n",
    "filelist_sst.sort()\n",
    "filelist_sss = glob.glob(path_ssh + \"*.sos.nc\")\n",
    "filelist_sss.sort()\n",
    "\n",
    "path_grid = \"/archive/Raphael.Dussin/FMS2019.01.03_devgfdl_20210308/CM4_piControl_c192_OM4p25/\" + \\\n",
    "\"gfdl.ncrc4-intel18-prod-openmp/pp/ocean_monthly/\"\n",
    "ds_grid = xr.open_dataset(path_grid + \"ocean_monthly.static.nc\")\n",
    "ds_grid1 = ds_grid.isel(xq = slice(1,1441), yq=slice(1,1081))\n",
    "\n",
    "save_path = \"/archive/Hemant.Khatri/MOM_Budget/\"\n",
    "ds_full = []\n",
    "# Loop for reading data and saving 5-yr averages (100 - 145 years)\n",
    "for i in range(19, 28):\n",
    "    \n",
    "    tim_yr = filelist_ssh[i][-24:-7]\n",
    "    print(\"Year Running = \", tim_yr)\n",
    "    \n",
    "    ds_ssh = xr.open_dataset(filelist_ssh[i], decode_times=False)\n",
    "    ds_sst = xr.open_dataset(filelist_sst[i], decode_times=False)\n",
    "    ds_sss = xr.open_dataset(filelist_sss[i], decode_times=False)\n",
    "    \n",
    "    %time ds = xr.merge([ds_ssh, ds_sst, ds_sss]).mean('time') #chunk({'xh':360, 'yh':360})\n",
    "    \n",
    "    ds_full.append(ds)\n",
    "\n",
    "ds1 = xr.concat(ds_full, dim='time')\n",
    "\n",
    "ds_save = xr.merge([ds1, ds_grid1])\n",
    "\n",
    "times = np.linspace(102.5, 142.5, 9)\n",
    "ds_save.coords['time'] = times\n",
    "ds_save.time.attrs['units'] = \"years since 0001\"\n",
    "    \n",
    "save_file = save_path + \"OM4p25/OM4p25_TS.nc\"\n",
    "\n",
    "ds_save = ds_save.load()\n",
    "ds_save.to_netcdf(save_file)\n",
    "\n",
    "print(\"File Saved Successfully\")"
   ]
  },
  {
   "cell_type": "markdown",
   "metadata": {},
   "source": [
    "#### Some checks"
   ]
  },
  {
   "cell_type": "code",
   "execution_count": 37,
   "metadata": {},
   "outputs": [],
   "source": [
    "path_ssh = \"/archive/Raphael.Dussin/FMS2019.01.03_devgfdl_20210308/CM4_piControl_c192_OM4p125_v3/\" + \\\n",
    "\"gfdl.ncrc4-intel18-prod-openmp/pp/ocean_daily/ts/daily/5yr/\"\n",
    "\n",
    "filelist_ssh = glob.glob(path_ssh + \"*.zos.nc\")\n",
    "filelist_ssh.sort()\n",
    "filelist_sst = glob.glob(path_ssh + \"*.tos.nc\")\n",
    "filelist_sst.sort()\n",
    "filelist_sss = glob.glob(path_ssh + \"*.sos.nc\")\n",
    "filelist_sss.sort()"
   ]
  },
  {
   "cell_type": "code",
   "execution_count": 42,
   "metadata": {},
   "outputs": [
    {
     "data": {
      "text/plain": [
       "'02010101-02051231'"
      ]
     },
     "execution_count": 42,
     "metadata": {},
     "output_type": "execute_result"
    }
   ],
   "source": [
    "filelist_sss[20][-24:-7]"
   ]
  }
 ],
 "metadata": {
  "kernelspec": {
   "display_name": "Python 3",
   "language": "python",
   "name": "python3"
  },
  "language_info": {
   "codemirror_mode": {
    "name": "ipython",
    "version": 3
   },
   "file_extension": ".py",
   "mimetype": "text/x-python",
   "name": "python",
   "nbconvert_exporter": "python",
   "pygments_lexer": "ipython3",
   "version": "3.7.9"
  }
 },
 "nbformat": 4,
 "nbformat_minor": 4
}
