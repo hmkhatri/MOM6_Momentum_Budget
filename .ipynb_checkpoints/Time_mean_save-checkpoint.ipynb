{
 "cells": [
  {
   "cell_type": "markdown",
   "metadata": {},
   "source": [
    "### Saving time-averages of the data in separate files"
   ]
  },
  {
   "cell_type": "code",
   "execution_count": 1,
   "metadata": {},
   "outputs": [
    {
     "data": {
      "text/html": [
       "<table style=\"border: 2px solid white;\">\n",
       "<tr>\n",
       "<td style=\"vertical-align: top; border: 0px solid white\">\n",
       "<h3 style=\"text-align: left;\">Client</h3>\n",
       "<ul style=\"text-align: left; list-style: none; margin: 0; padding: 0;\">\n",
       "  <li><b>Scheduler: </b>tcp://127.0.0.1:41582</li>\n",
       "  <li><b>Dashboard: </b><a href='http://127.0.0.1:8787/status' target='_blank'>http://127.0.0.1:8787/status</a></li>\n",
       "</ul>\n",
       "</td>\n",
       "<td style=\"vertical-align: top; border: 0px solid white\">\n",
       "<h3 style=\"text-align: left;\">Cluster</h3>\n",
       "<ul style=\"text-align: left; list-style:none; margin: 0; padding: 0;\">\n",
       "  <li><b>Workers: </b>4</li>\n",
       "  <li><b>Cores: </b>16</li>\n",
       "  <li><b>Memory: </b>406.01 GB</li>\n",
       "</ul>\n",
       "</td>\n",
       "</tr>\n",
       "</table>"
      ],
      "text/plain": [
       "<Client: 'tcp://127.0.0.1:41582' processes=4 threads=16, memory=406.01 GB>"
      ]
     },
     "execution_count": 1,
     "metadata": {},
     "output_type": "execute_result"
    }
   ],
   "source": [
    "import xarray as xr\n",
    "import matplotlib.pyplot as plt\n",
    "import matplotlib.ticker as mticker\n",
    "from cartopy.mpl.gridliner import LONGITUDE_FORMATTER, LATITUDE_FORMATTER\n",
    "import cartopy.crs as ccrs\n",
    "import cartopy.feature as cfeature\n",
    "import numpy as np\n",
    "from xgcm import Grid\n",
    "import filter\n",
    "from dask.diagnostics import ProgressBar\n",
    "%matplotlib inline\n",
    "import warnings\n",
    "warnings.filterwarnings('ignore')\n",
    "import glob, os\n",
    "\n",
    "from dask.distributed import Client\n",
    "from dask.distributed import LocalCluster\n",
    "cluster = LocalCluster()\n",
    "client = Client(cluster)\n",
    "\n",
    "client"
   ]
  },
  {
   "cell_type": "code",
   "execution_count": 2,
   "metadata": {},
   "outputs": [],
   "source": [
    "get_var = ['hf_CAu_2d', 'hf_CAv_2d', 'hf_PFu_2d', 'hf_PFv_2d', 'hf_diffu_2d', 'hf_diffv_2d', 'hf_du_dt_visc_2d', \n",
    "            'hf_dudt_2d', 'hf_dv_dt_visc_2d', 'hf_dvdt_2d', 'hf_gKEu_2d', 'hf_gKEv_2d', 'hf_rvxu_2d',\n",
    "            'hf_rvxv_2d', 'hf_u_BT_accel_2d', 'hf_v_BT_accel_2d','pbo','taux', 'taux_bot', 'tauy', 'tauy_bot',\n",
    "            'ubt_dt','vbt_dt','wfo','col_height','intz_CAu_2d','intz_CAv_2d','intz_diffu_2d','intz_diffv_2d',\n",
    "           'intz_gKEu_2d', 'intz_gKEv_2d', 'intz_PFu_2d', 'intz_PFv_2d', 'intz_rvxu_2d', 'intz_rvxv_2d',\n",
    "          'intz_u_BT_accel_2d', 'intz_v_BT_accel_2d']\n",
    "\n",
    "# Note - intz variables are only available in v2 / v3 runs on onwards"
   ]
  },
  {
   "cell_type": "markdown",
   "metadata": {},
   "source": [
    "#### Read Data first (for OM125 output)"
   ]
  },
  {
   "cell_type": "code",
   "execution_count": 3,
   "metadata": {},
   "outputs": [],
   "source": [
    "#path = \"/archive/Raphael.Dussin/FMS2019.01.03_devgfdl_20201120/CM4_piControl_c192_OM4p125/gfdl.ncrc4-intel18-prod-openmp/pp/ocean_monthly/ts/monthly/5yr/\"\n",
    "path = \"/archive/Raphael.Dussin/FMS2019.01.03_devgfdl_20210308/CM4_piControl_c192_OM4p125_v3/gfdl.ncrc4-intel18-prod-openmp/pp/ocean_monthly/ts/monthly/5yr/\"\n",
    "\n",
    "ds_full = xr.open_mfdataset(path + \"ocean_monthly.010101-010512*.nc\")\n",
    "\n",
    "\n",
    "ds_full = ds_full.get(get_var)\n",
    "\n",
    "#ppdir1 = \"/archive/Raphael.Dussin/FMS2019.01.03_devgfdl_20201120/CM4_piControl_c192_OM4p125/gfdl.ncrc4-intel18-prod-openmp/pp/ocean_monthly/\"\n",
    "ppdir1 = \"/archive/Raphael.Dussin/FMS2019.01.03_devgfdl_20210308/CM4_piControl_c192_OM4p125_v3/gfdl.ncrc4-intel18-prod-openmp/pp/ocean_monthly/\"\n",
    "\n",
    "ds_grid = xr.open_dataset(ppdir1 + \"ocean_monthly.static.nc\")\n",
    "\n",
    "# ---- use double precision static file ------------\n",
    "#ppdir = \"/archive/Raphael.Dussin/FMS2019.01.03_devgfdl_20210308/CM4_piControl_c192_OM4p125_f8static/gfdl.ncrc4-intel18-prod-openmp/history/\"\n",
    "#ds_grid = xr.open_dataset(ppdir + \"01010101.ocean_static.nc\")\n",
    "\n",
    "ds_full = ds_full.isel(xq = slice(1,2881), yq=slice(1,2241))\n",
    "ds_grid = ds_grid.isel(xq = slice(0,2880), yq=slice(0,2240))\n",
    "\n",
    "ds_full = xr.merge([ds_full, ds_grid])"
   ]
  },
  {
   "cell_type": "code",
   "execution_count": 4,
   "metadata": {},
   "outputs": [
    {
     "name": "stdout",
     "output_type": "stream",
     "text": [
      "<xarray.Dataset>\n",
      "Dimensions:             (time: 60, xh: 2880, xq: 2880, yh: 2240, yq: 2240)\n",
      "Coordinates:\n",
      "  * time                (time) object 0101-01-16 12:00:00 ... 0105-12-16 12:0...\n",
      "  * xh                  (xh) float64 -298.6 -298.5 -298.4 ... 61.05 61.16 61.28\n",
      "  * yh                  (yh) float64 -83.62 -83.58 -83.54 ... 89.86 89.92 89.97\n",
      "  * xq                  (xq) float64 -298.5 -298.4 -298.3 ... 61.12 61.23 61.35\n",
      "  * yq                  (yq) float64 -83.6 -83.56 -83.52 ... 89.89 89.95 90.0\n",
      "Data variables:\n",
      "    hf_CAu_2d           (time, yh, xq) float64 dask.array<chunksize=(60, 2240, 2880), meta=np.ndarray>\n",
      "    hf_CAv_2d           (time, yq, xh) float64 dask.array<chunksize=(60, 2240, 2880), meta=np.ndarray>\n",
      "    hf_PFu_2d           (time, yh, xq) float64 dask.array<chunksize=(60, 2240, 2880), meta=np.ndarray>\n",
      "    hf_PFv_2d           (time, yq, xh) float64 dask.array<chunksize=(60, 2240, 2880), meta=np.ndarray>\n",
      "    hf_diffu_2d         (time, yh, xq) float64 dask.array<chunksize=(60, 2240, 2880), meta=np.ndarray>\n",
      "    hf_diffv_2d         (time, yq, xh) float64 dask.array<chunksize=(60, 2240, 2880), meta=np.ndarray>\n",
      "    hf_du_dt_visc_2d    (time, yh, xq) float64 dask.array<chunksize=(60, 2240, 2880), meta=np.ndarray>\n",
      "    hf_dudt_2d          (time, yh, xq) float64 dask.array<chunksize=(60, 2240, 2880), meta=np.ndarray>\n",
      "    hf_dv_dt_visc_2d    (time, yq, xh) float64 dask.array<chunksize=(60, 2240, 2880), meta=np.ndarray>\n",
      "    hf_dvdt_2d          (time, yq, xh) float64 dask.array<chunksize=(60, 2240, 2880), meta=np.ndarray>\n",
      "    hf_gKEu_2d          (time, yh, xq) float64 dask.array<chunksize=(60, 2240, 2880), meta=np.ndarray>\n",
      "    hf_gKEv_2d          (time, yq, xh) float64 dask.array<chunksize=(60, 2240, 2880), meta=np.ndarray>\n",
      "    hf_rvxu_2d          (time, yq, xh) float64 dask.array<chunksize=(60, 2240, 2880), meta=np.ndarray>\n",
      "    hf_rvxv_2d          (time, yh, xq) float64 dask.array<chunksize=(60, 2240, 2880), meta=np.ndarray>\n",
      "    hf_u_BT_accel_2d    (time, yh, xq) float64 dask.array<chunksize=(60, 2240, 2880), meta=np.ndarray>\n",
      "    hf_v_BT_accel_2d    (time, yq, xh) float64 dask.array<chunksize=(60, 2240, 2880), meta=np.ndarray>\n",
      "    pbo                 (time, yh, xh) float64 dask.array<chunksize=(60, 2240, 2880), meta=np.ndarray>\n",
      "    taux                (time, yh, xq) float64 dask.array<chunksize=(60, 2240, 2880), meta=np.ndarray>\n",
      "    taux_bot            (time, yh, xq) float64 dask.array<chunksize=(60, 2240, 2880), meta=np.ndarray>\n",
      "    tauy                (time, yq, xh) float64 dask.array<chunksize=(60, 2240, 2880), meta=np.ndarray>\n",
      "    tauy_bot            (time, yq, xh) float64 dask.array<chunksize=(60, 2240, 2880), meta=np.ndarray>\n",
      "    ubt_dt              (time, yh, xq) float64 dask.array<chunksize=(60, 2240, 2880), meta=np.ndarray>\n",
      "    vbt_dt              (time, yq, xh) float64 dask.array<chunksize=(60, 2240, 2880), meta=np.ndarray>\n",
      "    wfo                 (time, yh, xh) float32 dask.array<chunksize=(60, 2240, 2880), meta=np.ndarray>\n",
      "    col_height          (time, yh, xh) float32 dask.array<chunksize=(60, 2240, 2880), meta=np.ndarray>\n",
      "    intz_CAu_2d         (time, yh, xq) float64 dask.array<chunksize=(60, 2240, 2880), meta=np.ndarray>\n",
      "    intz_CAv_2d         (time, yq, xh) float64 dask.array<chunksize=(60, 2240, 2880), meta=np.ndarray>\n",
      "    intz_diffu_2d       (time, yh, xq) float64 dask.array<chunksize=(60, 2240, 2880), meta=np.ndarray>\n",
      "    intz_diffv_2d       (time, yq, xh) float64 dask.array<chunksize=(60, 2240, 2880), meta=np.ndarray>\n",
      "    intz_gKEu_2d        (time, yh, xq) float64 dask.array<chunksize=(60, 2240, 2880), meta=np.ndarray>\n",
      "    intz_gKEv_2d        (time, yq, xh) float64 dask.array<chunksize=(60, 2240, 2880), meta=np.ndarray>\n",
      "    intz_PFu_2d         (time, yh, xq) float64 dask.array<chunksize=(60, 2240, 2880), meta=np.ndarray>\n",
      "    intz_PFv_2d         (time, yq, xh) float64 dask.array<chunksize=(60, 2240, 2880), meta=np.ndarray>\n",
      "    intz_rvxu_2d        (time, yq, xh) float64 dask.array<chunksize=(60, 2240, 2880), meta=np.ndarray>\n",
      "    intz_rvxv_2d        (time, yh, xq) float64 dask.array<chunksize=(60, 2240, 2880), meta=np.ndarray>\n",
      "    intz_u_BT_accel_2d  (time, yh, xq) float64 dask.array<chunksize=(60, 2240, 2880), meta=np.ndarray>\n",
      "    intz_v_BT_accel_2d  (time, yq, xh) float64 dask.array<chunksize=(60, 2240, 2880), meta=np.ndarray>\n",
      "    Coriolis            (yq, xq) float32 ...\n",
      "    areacello           (yh, xh) float32 ...\n",
      "    areacello_bu        (yq, xq) float32 ...\n",
      "    areacello_cu        (yh, xq) float32 ...\n",
      "    areacello_cv        (yq, xh) float32 ...\n",
      "    deptho              (yh, xh) float32 ...\n",
      "    dxCu                (yh, xq) float32 ...\n",
      "    dxCv                (yq, xh) float32 ...\n",
      "    dxt                 (yh, xh) float32 ...\n",
      "    dyCu                (yh, xq) float32 ...\n",
      "    dyCv                (yq, xh) float32 ...\n",
      "    dyt                 (yh, xh) float32 ...\n",
      "    geolat              (yh, xh) float32 ...\n",
      "    geolat_c            (yq, xq) float32 ...\n",
      "    geolat_u            (yh, xq) float32 ...\n",
      "    geolat_v            (yq, xh) float32 ...\n",
      "    geolon              (yh, xh) float32 ...\n",
      "    geolon_c            (yq, xq) float32 ...\n",
      "    geolon_u            (yh, xq) float32 ...\n",
      "    geolon_v            (yq, xh) float32 ...\n",
      "    hfgeou              (yh, xh) float32 ...\n",
      "    sftof               (yh, xh) float32 ...\n",
      "    wet                 (yh, xh) float32 ...\n",
      "    wet_c               (yq, xq) float32 ...\n",
      "    wet_u               (yh, xq) float32 ...\n",
      "    wet_v               (yq, xh) float32 ...\n"
     ]
    }
   ],
   "source": [
    "print(ds_full)"
   ]
  },
  {
   "cell_type": "code",
   "execution_count": 5,
   "metadata": {},
   "outputs": [],
   "source": [
    "ppdir = \"/archive/Raphael.Dussin/FMS2019.01.03_devgfdl_20210308/CM4_piControl_c192_OM4p125_f8static/gfdl.ncrc4-intel18-prod-openmp/history/\"\n",
    "ds_grid1 = xr.open_dataset(ppdir + \"01010101.ocean_static.nc\", mask_and_scale=False)\n",
    "\n",
    "ds_grid1 = ds_grid1.isel(xq = slice(0,2880), yq=slice(0,2240))"
   ]
  },
  {
   "cell_type": "code",
   "execution_count": 6,
   "metadata": {},
   "outputs": [
    {
     "name": "stdout",
     "output_type": "stream",
     "text": [
      "<xarray.DataArray 'pbo' (time: 60, yh: 2240, xh: 2880)>\n",
      "dask.array<open_dataset-77cf305b2679edca9a8c5e91108282c1pbo, shape=(60, 2240, 2880), dtype=float64, chunksize=(60, 2240, 2880), chunktype=numpy.ndarray>\n",
      "Coordinates:\n",
      "  * time     (time) object 0101-01-16 12:00:00 ... 0105-12-16 12:00:00\n",
      "  * xh       (xh) float64 -298.6 -298.5 -298.4 -298.3 ... 61.05 61.16 61.28\n",
      "  * yh       (yh) float64 -83.62 -83.58 -83.54 -83.5 ... 89.81 89.86 89.92 89.97\n",
      "Attributes:\n",
      "    long_name:      Sea Water Pressure at Sea Floor\n",
      "    units:          Pa\n",
      "    cell_methods:   area:mean yh:mean xh:mean time: mean\n",
      "    cell_measures:  area: areacello\n",
      "    time_avg_info:  average_T1,average_T2,average_DT\n",
      "    standard_name:  sea_water_pressure_at_sea_floor\n",
      "<xarray.DataArray 'dxt' (yh: 2240, xh: 2880)>\n",
      "[6451200 values with dtype=float32]\n",
      "Coordinates:\n",
      "  * xh       (xh) float64 -298.6 -298.5 -298.4 -298.3 ... 61.05 61.16 61.28\n",
      "  * yh       (yh) float64 -83.62 -83.58 -83.54 -83.5 ... 89.81 89.86 89.92 89.97\n",
      "Attributes:\n",
      "    long_name:      Delta(x) at thickness/tracer points (meter)\n",
      "    units:          m\n",
      "    cell_methods:   time: point\n",
      "    interp_method:  none\n"
     ]
    }
   ],
   "source": [
    "#print(np.finfo(ds_full.pbo))\n",
    "print(ds_full.pbo)\n",
    "print(ds_full.dxt)"
   ]
  },
  {
   "cell_type": "code",
   "execution_count": 7,
   "metadata": {},
   "outputs": [
    {
     "name": "stdout",
     "output_type": "stream",
     "text": [
      "Machine parameters for float32\n",
      "---------------------------------------------------------------\n",
      "precision =   6   resolution = 1.0000000e-06\n",
      "machep =    -23   eps =        1.1920929e-07\n",
      "negep =     -24   epsneg =     5.9604645e-08\n",
      "minexp =   -126   tiny =       1.1754944e-38\n",
      "maxexp =    128   max =        3.4028235e+38\n",
      "nexp =        8   min =        -max\n",
      "---------------------------------------------------------------\n",
      "\n"
     ]
    }
   ],
   "source": [
    "print(np.finfo(ds_full.dxt))"
   ]
  },
  {
   "cell_type": "code",
   "execution_count": 14,
   "metadata": {},
   "outputs": [
    {
     "name": "stdout",
     "output_type": "stream",
     "text": [
      "Machine parameters for float64\n",
      "---------------------------------------------------------------\n",
      "precision =  15   resolution = 1.0000000000000001e-15\n",
      "machep =    -52   eps =        2.2204460492503131e-16\n",
      "negep =     -53   epsneg =     1.1102230246251565e-16\n",
      "minexp =  -1022   tiny =       2.2250738585072014e-308\n",
      "maxexp =   1024   max =        1.7976931348623157e+308\n",
      "nexp =       11   min =        -max\n",
      "---------------------------------------------------------------\n",
      "\n"
     ]
    }
   ],
   "source": [
    "print(np.finfo(ds_grid1.dxCu))"
   ]
  },
  {
   "cell_type": "code",
   "execution_count": 15,
   "metadata": {},
   "outputs": [
    {
     "data": {
      "text/plain": [
       "<matplotlib.collections.QuadMesh at 0x2ae360260850>"
      ]
     },
     "execution_count": 15,
     "metadata": {},
     "output_type": "execute_result"
    },
    {
     "data": {
      "image/png": "[encoded data removed]",
      "text/plain": [
       "<Figure size 432x288 with 2 Axes>"
      ]
     },
     "metadata": {
      "needs_background": "light"
     },
     "output_type": "display_data"
    }
   ],
   "source": [
    "(ds_full.dyCv - ds_grid1.dyCv).plot()"
   ]
  },
  {
   "cell_type": "code",
   "execution_count": 7,
   "metadata": {},
   "outputs": [],
   "source": [
    "#path2 = \"/archive/Raphael.Dussin/FMS2019.01.03_devgfdl_20201120/CM4_piControl_c192_OM4p125/gfdl.ncrc4-intel18-prod-openmp/pp/ocean_annual_z/ts/annual/10yr/\"\n",
    "path2 = \"/archive/Raphael.Dussin/FMS2019.01.03_devgfdl_20210308/CM4_piControl_c192_OM4p125_v3/gfdl.ncrc4-intel18-prod-openmp/pp/ocean_annual_z/ts/annual/10yr/\"\n",
    "\n",
    "ds_vmo = xr.open_dataset(path2 + \"ocean_annual_z.0101-0110.vmo.nc\") # , mask_and_scale=False)\n",
    "ds_umo = xr.open_dataset(path2 + \"ocean_annual_z.0101-0110.umo.nc\") #, mask_and_scale=False)"
   ]
  },
  {
   "cell_type": "code",
   "execution_count": 8,
   "metadata": {},
   "outputs": [
    {
     "name": "stdout",
     "output_type": "stream",
     "text": [
      "CPU times: user 54.8 s, sys: 24.8 s, total: 1min 19s\n",
      "Wall time: 1min 16s\n"
     ]
    }
   ],
   "source": [
    "%%time\n",
    "\n",
    "#ds_save = (ds_full.chunk({'xh': 500, 'yh': 500, 'xq': 500, 'yq': 500})).mean('time')\n",
    "ds_save = (ds_full).mean('time')\n",
    "\n",
    "vmo_2d = (ds_vmo['vmo'].isel(yq=slice(1,2241),time=slice(0,5)).mean('time')).sum('z_l')\n",
    "\n",
    "umo_2d = (ds_umo['umo'].isel(xq=slice(1,2881),time=slice(0,5)).mean('time')).sum('z_l')\n",
    "\n",
    "ds_save = xr.merge([ds_save, vmo_2d, umo_2d])"
   ]
  },
  {
   "cell_type": "code",
   "execution_count": 9,
   "metadata": {},
   "outputs": [
    {
     "name": "stdout",
     "output_type": "stream",
     "text": [
      "<xarray.Dataset>\n",
      "Dimensions:             (xh: 2880, xq: 2880, yh: 2240, yq: 2240)\n",
      "Coordinates:\n",
      "  * xh                  (xh) float64 -298.6 -298.5 -298.4 ... 61.05 61.16 61.28\n",
      "  * yh                  (yh) float64 -83.62 -83.58 -83.54 ... 89.86 89.92 89.97\n",
      "  * xq                  (xq) float64 -298.5 -298.4 -298.3 ... 61.12 61.23 61.35\n",
      "  * yq                  (yq) float64 -83.6 -83.56 -83.52 ... 89.89 89.95 90.0\n",
      "Data variables:\n",
      "    hf_CAu_2d           (yh, xq) float64 dask.array<chunksize=(2240, 2880), meta=np.ndarray>\n",
      "    hf_CAv_2d           (yq, xh) float64 dask.array<chunksize=(2240, 2880), meta=np.ndarray>\n",
      "    hf_PFu_2d           (yh, xq) float64 dask.array<chunksize=(2240, 2880), meta=np.ndarray>\n",
      "    hf_PFv_2d           (yq, xh) float64 dask.array<chunksize=(2240, 2880), meta=np.ndarray>\n",
      "    hf_diffu_2d         (yh, xq) float64 dask.array<chunksize=(2240, 2880), meta=np.ndarray>\n",
      "    hf_diffv_2d         (yq, xh) float64 dask.array<chunksize=(2240, 2880), meta=np.ndarray>\n",
      "    hf_du_dt_visc_2d    (yh, xq) float64 dask.array<chunksize=(2240, 2880), meta=np.ndarray>\n",
      "    hf_dudt_2d          (yh, xq) float64 dask.array<chunksize=(2240, 2880), meta=np.ndarray>\n",
      "    hf_dv_dt_visc_2d    (yq, xh) float64 dask.array<chunksize=(2240, 2880), meta=np.ndarray>\n",
      "    hf_dvdt_2d          (yq, xh) float64 dask.array<chunksize=(2240, 2880), meta=np.ndarray>\n",
      "    hf_gKEu_2d          (yh, xq) float64 dask.array<chunksize=(2240, 2880), meta=np.ndarray>\n",
      "    hf_gKEv_2d          (yq, xh) float64 dask.array<chunksize=(2240, 2880), meta=np.ndarray>\n",
      "    hf_rvxu_2d          (yq, xh) float64 dask.array<chunksize=(2240, 2880), meta=np.ndarray>\n",
      "    hf_rvxv_2d          (yh, xq) float64 dask.array<chunksize=(2240, 2880), meta=np.ndarray>\n",
      "    hf_u_BT_accel_2d    (yh, xq) float64 dask.array<chunksize=(2240, 2880), meta=np.ndarray>\n",
      "    hf_v_BT_accel_2d    (yq, xh) float64 dask.array<chunksize=(2240, 2880), meta=np.ndarray>\n",
      "    pbo                 (yh, xh) float64 dask.array<chunksize=(2240, 2880), meta=np.ndarray>\n",
      "    taux                (yh, xq) float64 dask.array<chunksize=(2240, 2880), meta=np.ndarray>\n",
      "    taux_bot            (yh, xq) float64 dask.array<chunksize=(2240, 2880), meta=np.ndarray>\n",
      "    tauy                (yq, xh) float64 dask.array<chunksize=(2240, 2880), meta=np.ndarray>\n",
      "    tauy_bot            (yq, xh) float64 dask.array<chunksize=(2240, 2880), meta=np.ndarray>\n",
      "    ubt_dt              (yh, xq) float64 dask.array<chunksize=(2240, 2880), meta=np.ndarray>\n",
      "    vbt_dt              (yq, xh) float64 dask.array<chunksize=(2240, 2880), meta=np.ndarray>\n",
      "    wfo                 (yh, xh) float32 dask.array<chunksize=(2240, 2880), meta=np.ndarray>\n",
      "    col_height          (yh, xh) float32 dask.array<chunksize=(2240, 2880), meta=np.ndarray>\n",
      "    intz_CAu_2d         (yh, xq) float64 dask.array<chunksize=(2240, 2880), meta=np.ndarray>\n",
      "    intz_CAv_2d         (yq, xh) float64 dask.array<chunksize=(2240, 2880), meta=np.ndarray>\n",
      "    intz_diffu_2d       (yh, xq) float64 dask.array<chunksize=(2240, 2880), meta=np.ndarray>\n",
      "    intz_diffv_2d       (yq, xh) float64 dask.array<chunksize=(2240, 2880), meta=np.ndarray>\n",
      "    intz_gKEu_2d        (yh, xq) float64 dask.array<chunksize=(2240, 2880), meta=np.ndarray>\n",
      "    intz_gKEv_2d        (yq, xh) float64 dask.array<chunksize=(2240, 2880), meta=np.ndarray>\n",
      "    intz_PFu_2d         (yh, xq) float64 dask.array<chunksize=(2240, 2880), meta=np.ndarray>\n",
      "    intz_PFv_2d         (yq, xh) float64 dask.array<chunksize=(2240, 2880), meta=np.ndarray>\n",
      "    intz_rvxu_2d        (yq, xh) float64 dask.array<chunksize=(2240, 2880), meta=np.ndarray>\n",
      "    intz_rvxv_2d        (yh, xq) float64 dask.array<chunksize=(2240, 2880), meta=np.ndarray>\n",
      "    intz_u_BT_accel_2d  (yh, xq) float64 dask.array<chunksize=(2240, 2880), meta=np.ndarray>\n",
      "    intz_v_BT_accel_2d  (yq, xh) float64 dask.array<chunksize=(2240, 2880), meta=np.ndarray>\n",
      "    Coriolis            (yq, xq) float32 -0.00014457387 ... 0.00013111717\n",
      "    areacello           (yh, xh) float32 6558244.0 6557690.5 ... 76604.125\n",
      "    areacello_bu        (yq, xq) float32 6573536.0 6572972.0 ... 38352.16\n",
      "    areacello_cu        (yh, xq) float32 0.0 0.0 0.0 0.0 0.0 ... 0.0 0.0 0.0 0.0\n",
      "    areacello_cv        (yq, xh) float32 0.0 0.0 0.0 0.0 0.0 ... 0.0 0.0 0.0 0.0\n",
      "    deptho              (yh, xh) float32 nan nan nan nan nan ... nan nan nan nan\n",
      "    dxCu                (yh, xq) float32 1705.979 1706.2922 ... 6083.2065\n",
      "    dxCv                (yq, xh) float32 1710.8722 1711.1858 ... 6080.228\n",
      "    dxt                 (yh, xh) float32 1705.8218 1706.1359 ... 6080.228\n",
      "    dyCu                (yh, xq) float32 3844.112 3843.083 ... 0.024693977\n",
      "    dyCv                (yq, xh) float32 3842.383 3841.3486 ... 12.607132\n",
      "    dyt                 (yh, xh) float32 3844.6287 3843.5967 ... 12.60712\n",
      "    geolat              (yh, xh) float32 -82.456726 -82.4552 ... 64.05896\n",
      "    geolat_c            (yq, xq) float32 -82.43877 -82.43725 ... 64.03161\n",
      "    geolat_u            (yh, xq) float32 -82.45596 -82.45444 ... 64.03161\n",
      "    geolat_v            (yq, xh) float32 -82.43954 -82.438 ... 64.11359 64.05896\n",
      "    geolon              (yh, xh) float32 -298.59146 -298.4752 ... 59.99987\n",
      "    geolon_c            (yq, xq) float32 -298.54663 -298.43027 ... -300.0 -300.0\n",
      "    geolon_u            (yh, xq) float32 -298.53333 -298.41705 ... 59.99974 60.0\n",
      "    geolon_v            (yq, xh) float32 -298.6048 -298.48843 ... -300.0 -300.0\n",
      "    hfgeou              (yh, xh) float32 0.0 0.0 0.0 0.0 0.0 ... 0.0 0.0 0.0 0.0\n",
      "    sftof               (yh, xh) float32 0.0 0.0 0.0 0.0 0.0 ... 0.0 0.0 0.0 0.0\n",
      "    wet                 (yh, xh) float32 0.0 0.0 0.0 0.0 0.0 ... 0.0 0.0 0.0 0.0\n",
      "    wet_c               (yq, xq) float32 0.0 0.0 0.0 0.0 0.0 ... 0.0 0.0 0.0 0.0\n",
      "    wet_u               (yh, xq) float32 0.0 0.0 0.0 0.0 0.0 ... 0.0 0.0 0.0 0.0\n",
      "    wet_v               (yq, xh) float32 0.0 0.0 0.0 0.0 0.0 ... 0.0 0.0 0.0 0.0\n",
      "    vmo                 (yq, xh) float32 0.0 0.0 0.0 0.0 0.0 ... 0.0 0.0 0.0 0.0\n",
      "    umo                 (yh, xq) float32 0.0 0.0 0.0 0.0 0.0 ... 0.0 0.0 0.0 0.0\n"
     ]
    }
   ],
   "source": [
    "print(ds_save)"
   ]
  },
  {
   "cell_type": "code",
   "execution_count": 12,
   "metadata": {},
   "outputs": [
    {
     "name": "stdout",
     "output_type": "stream",
     "text": [
      "Machine parameters for float64\n",
      "---------------------------------------------------------------\n",
      "precision =  15   resolution = 1.0000000000000001e-15\n",
      "machep =    -52   eps =        2.2204460492503131e-16\n",
      "negep =     -53   epsneg =     1.1102230246251565e-16\n",
      "minexp =  -1022   tiny =       2.2250738585072014e-308\n",
      "maxexp =   1024   max =        1.7976931348623157e+308\n",
      "nexp =       11   min =        -max\n",
      "---------------------------------------------------------------\n",
      "\n"
     ]
    }
   ],
   "source": [
    "print(np.finfo(ds_save.intz_CAu_2d))"
   ]
  },
  {
   "cell_type": "code",
   "execution_count": 11,
   "metadata": {},
   "outputs": [
    {
     "name": "stdout",
     "output_type": "stream",
     "text": [
      "Machine parameters for float32\n",
      "---------------------------------------------------------------\n",
      "precision =   6   resolution = 1.0000000e-06\n",
      "machep =    -23   eps =        1.1920929e-07\n",
      "negep =     -24   epsneg =     5.9604645e-08\n",
      "minexp =   -126   tiny =       1.1754944e-38\n",
      "maxexp =    128   max =        3.4028235e+38\n",
      "nexp =        8   min =        -max\n",
      "---------------------------------------------------------------\n",
      "\n"
     ]
    }
   ],
   "source": [
    "print(np.finfo(ds_vmo.vmo))"
   ]
  },
  {
   "cell_type": "code",
   "execution_count": 13,
   "metadata": {},
   "outputs": [
    {
     "name": "stdout",
     "output_type": "stream",
     "text": [
      "CPU times: user 9.92 s, sys: 4.43 s, total: 14.4 s\n",
      "Wall time: 2min 58s\n",
      "CPU times: user 399 ms, sys: 2.17 s, total: 2.57 s\n",
      "Wall time: 2.84 s\n"
     ]
    }
   ],
   "source": [
    "# for OM125\n",
    "%time ds_save = ds_save.load()\n",
    "%time ds_save.to_netcdf(\"/work/Hemant.Khatri/MOM6_idealised/MOM_budget/Global_MOM6/v3/Mom_Budget_OM125_0001_0005.nc\")"
   ]
  },
  {
   "cell_type": "markdown",
   "metadata": {},
   "source": [
    "#### Read Data first (for OM25 output)"
   ]
  },
  {
   "cell_type": "code",
   "execution_count": 3,
   "metadata": {},
   "outputs": [
    {
     "name": "stdout",
     "output_type": "stream",
     "text": [
      "CPU times: user 8.09 s, sys: 283 ms, total: 8.38 s\n",
      "Wall time: 18.1 s\n"
     ]
    }
   ],
   "source": [
    "%%time\n",
    "\n",
    "path = \"/archive/Raphael.Dussin/FMS2019.01.03_devgfdl_20201120/CM4_piControl_c96_OM4p25/gfdl.ncrc4-intel18-prod-openmp/pp/ocean_monthly/ts/monthly/5yr/\"\n",
    "\n",
    "ds_full = xr.open_mfdataset(path + \"ocean_monthly.000101-000512*.nc\", parallel=True, decode_times=False)\n",
    "ds_full = ds_full.isel(xq = slice(1,1441), yq=slice(1,1081))\n",
    "\n",
    "ds_full = ds_full.get(get_var)\n",
    "\n",
    "#ppdir1 = \"/archive/Raphael.Dussin/FMS2019.01.03_devgfdl_20201120/CM4_piControl_c96_OM4p25/gfdl.ncrc4-intel18-prod-openmp/pp/ocean_monthly/\"\n",
    "ppdir1 = \"/archive/Raphael.Dussin/FMS2019.01.03_devgfdl_20210308/CM4_piControl_c192_OM4p125_v2/gfdl.ncrc4-intel18-prod-openmp/pp/ocean_daily_d2/\"\n",
    "\n",
    "ds_grid = xr.open_dataset(ppdir1 + \"ocean_daily_d2.static.nc\") #\"ocean_monthly.static.nc\")\n",
    "ds_grid = ds_grid.isel(xq = slice(1,1441), yq=slice(1,1081))\n",
    "\n",
    "#ds_full = xr.merge([ds_full, ds_grid])"
   ]
  },
  {
   "cell_type": "code",
   "execution_count": 4,
   "metadata": {},
   "outputs": [
    {
     "name": "stdout",
     "output_type": "stream",
     "text": [
      "<xarray.Dataset>\n",
      "Dimensions:       (xh: 1440, xq: 1440, yh: 1120, yq: 1080)\n",
      "Coordinates:\n",
      "  * xh            (xh) float64 -298.4 -298.2 -298.0 -297.7 ... 60.89 61.12 61.35\n",
      "  * xq            (xq) float64 -298.3 -298.1 -297.8 -297.6 ... 61.0 61.23 61.35\n",
      "  * yh            (yh) float64 -83.56 -83.48 -83.41 -83.33 ... 89.78 89.89 90.0\n",
      "  * yq            (yq) float64 -83.52 -83.45 -83.37 -83.29 ... 85.45 85.56 85.67\n",
      "Data variables:\n",
      "    Coriolis      (yq, xq) float32 ...\n",
      "    areacello     (yh, xh) float32 ...\n",
      "    areacello_bu  (yq, xq) float32 ...\n",
      "    areacello_cu  (yh, xq) float32 ...\n",
      "    areacello_cv  (yq, xh) float32 ...\n",
      "    basin         (yh, xh) float64 ...\n",
      "    deptho        (yh, xh) float64 ...\n",
      "    dxCu          (yh, xq) float32 ...\n",
      "    dxCv          (yq, xh) float32 ...\n",
      "    dxt           (yh, xh) float32 ...\n",
      "    dyCu          (yh, xq) float32 ...\n",
      "    dyCv          (yq, xh) float32 ...\n",
      "    dyt           (yh, xh) float32 ...\n",
      "    geolat        (yh, xh) float32 ...\n",
      "    geolat_c      (yq, xq) float32 ...\n",
      "    geolat_u      (yh, xq) float32 ...\n",
      "    geolat_v      (yq, xh) float32 ...\n",
      "    geolon        (yh, xh) float32 ...\n",
      "    geolon_c      (yq, xq) float32 ...\n",
      "    geolon_u      (yh, xq) float32 ...\n",
      "    geolon_v      (yq, xh) float32 ...\n",
      "    hfgeou        (yh, xh) float64 ...\n",
      "    sftof         (yh, xh) float64 ...\n",
      "    wet           (yh, xh) float64 ...\n",
      "    wet_c         (yq, xq) float64 ...\n",
      "    wet_u         (yh, xq) float64 ...\n",
      "    wet_v         (yq, xh) float64 ...\n",
      "Attributes:\n",
      "    external_variables:  areacello areacello\n"
     ]
    }
   ],
   "source": [
    "print(ds_grid)"
   ]
  },
  {
   "cell_type": "code",
   "execution_count": 4,
   "metadata": {},
   "outputs": [
    {
     "name": "stdout",
     "output_type": "stream",
     "text": [
      "CPU times: user 43 ms, sys: 14 ms, total: 57 ms\n",
      "Wall time: 413 ms\n"
     ]
    }
   ],
   "source": [
    "%%time\n",
    "\n",
    "path2 = \"/archive/Raphael.Dussin/FMS2019.01.03_devgfdl_20201120/CM4_piControl_c96_OM4p25/gfdl.ncrc4-intel18-prod-openmp/pp/ocean_annual_z/ts/annual/10yr/\"\n",
    "\n",
    "ds_vmo = xr.open_dataset(path2 + \"ocean_annual_z.0001-0010.vmo.nc\")\n",
    "ds_vmo = ds_vmo.isel(yq=slice(1,1081),time=slice(0,5)).chunk({'xh': 500,'yq': 500})\n",
    "\n",
    "ds_umo = xr.open_dataset(path2 + \"ocean_annual_z.0001-0010.umo.nc\")\n",
    "ds_umo = ds_umo.isel(xq = slice(1,1441),time=slice(0,5)).chunk({'xq': 500,'yh': 500})"
   ]
  },
  {
   "cell_type": "code",
   "execution_count": 5,
   "metadata": {},
   "outputs": [
    {
     "name": "stdout",
     "output_type": "stream",
     "text": [
      "CPU times: user 1.67 s, sys: 388 ms, total: 2.05 s\n",
      "Wall time: 16.7 s\n",
      "CPU times: user 371 ms, sys: 40 ms, total: 411 ms\n",
      "Wall time: 8.53 s\n",
      "CPU times: user 413 ms, sys: 48 ms, total: 461 ms\n",
      "Wall time: 9.29 s\n"
     ]
    }
   ],
   "source": [
    "# Time-mean\n",
    "%time ds_full_mean = (ds_full.chunk({'xh': 500, 'yh': 500, 'xq': 500, 'yq': 500})).mean('time').load()\n",
    "\n",
    "%time umo_2d = (ds_umo.mean('time')).sum('z_l').drop(['z_i']).load()\n",
    "\n",
    "%time vmo_2d = (ds_vmo.mean('time')).sum('z_l').drop(['z_i']).load()"
   ]
  },
  {
   "cell_type": "code",
   "execution_count": 8,
   "metadata": {},
   "outputs": [
    {
     "name": "stdout",
     "output_type": "stream",
     "text": [
      "<xarray.Dataset>\n",
      "Dimensions:           (nv: 2, xh: 1440, xq: 1440, yh: 1080, yq: 1080)\n",
      "Coordinates:\n",
      "  * xh                (xh) float64 -299.7 -299.5 -299.2 ... 59.53 59.78 60.03\n",
      "  * yh                (yh) float64 -80.39 -80.31 -80.23 ... 89.73 89.84 89.95\n",
      "  * xq                (xq) float64 -299.6 -299.3 -299.1 ... 59.66 59.91 60.16\n",
      "  * yq                (yq) float64 -80.35 -80.27 -80.19 ... 89.78 89.89 90.0\n",
      "  * nv                (nv) float64 1.0 2.0\n",
      "Data variables:\n",
      "    hf_CAu_2d         (yh, xq) float32 nan nan nan nan nan ... nan nan nan nan\n",
      "    hf_CAv_2d         (yq, xh) float32 nan nan nan nan nan ... nan nan nan nan\n",
      "    hf_PFu_2d         (yh, xq) float32 nan nan nan nan nan ... nan nan nan nan\n",
      "    hf_PFv_2d         (yq, xh) float32 nan nan nan nan nan ... nan nan nan nan\n",
      "    hf_diffu_2d       (yh, xq) float32 nan nan nan nan nan ... nan nan nan nan\n",
      "    hf_diffv_2d       (yq, xh) float32 nan nan nan nan nan ... nan nan nan nan\n",
      "    hf_du_dt_visc_2d  (yh, xq) float32 nan nan nan nan nan ... nan nan nan nan\n",
      "    hf_dudt_2d        (yh, xq) float32 nan nan nan nan nan ... nan nan nan nan\n",
      "    hf_dv_dt_visc_2d  (yq, xh) float32 nan nan nan nan nan ... nan nan nan nan\n",
      "    hf_dvdt_2d        (yq, xh) float32 nan nan nan nan nan ... nan nan nan nan\n",
      "    hf_gKEu_2d        (yh, xq) float32 nan nan nan nan nan ... nan nan nan nan\n",
      "    hf_gKEv_2d        (yq, xh) float32 nan nan nan nan nan ... nan nan nan nan\n",
      "    hf_rvxu_2d        (yq, xh) float32 nan nan nan nan nan ... nan nan nan nan\n",
      "    hf_rvxv_2d        (yh, xq) float32 nan nan nan nan nan ... nan nan nan nan\n",
      "    hf_u_BT_accel_2d  (yh, xq) float32 nan nan nan nan nan ... nan nan nan nan\n",
      "    hf_v_BT_accel_2d  (yq, xh) float32 nan nan nan nan nan ... nan nan nan nan\n",
      "    pbo               (yh, xh) float32 nan nan nan nan nan ... nan nan nan nan\n",
      "    taux              (yh, xq) float32 nan nan nan nan nan ... nan nan nan nan\n",
      "    taux_bot          (yh, xq) float32 nan nan nan nan nan ... nan nan nan nan\n",
      "    tauy              (yq, xh) float32 nan nan nan nan nan ... nan nan nan nan\n",
      "    tauy_bot          (yq, xh) float32 nan nan nan nan nan ... nan nan nan nan\n",
      "    ubt_dt            (yh, xq) float32 nan nan nan nan nan ... nan nan nan nan\n",
      "    vbt_dt            (yq, xh) float32 nan nan nan nan nan ... nan nan nan nan\n",
      "    wfo               (yh, xh) float32 nan nan nan nan nan ... nan nan nan nan\n",
      "    col_height        (yh, xh) float32 nan nan nan nan nan ... nan nan nan nan\n",
      "    average_DT        timedelta64[ns] 365 days\n",
      "    umo               (yh, xq) float32 0.0 0.0 0.0 0.0 0.0 ... 0.0 0.0 0.0 0.0\n",
      "    vmo               (yq, xh) float32 0.0 0.0 0.0 0.0 0.0 ... 0.0 0.0 0.0 0.0\n",
      "    Coriolis          (yq, xq) float32 ...\n",
      "    areacello         (yh, xh) float32 ...\n",
      "    areacello_bu      (yq, xq) float32 ...\n",
      "    areacello_cu      (yh, xq) float32 ...\n",
      "    areacello_cv      (yq, xh) float32 ...\n",
      "    deptho            (yh, xh) float32 ...\n",
      "    dxCu              (yh, xq) float32 ...\n",
      "    dxCv              (yq, xh) float32 ...\n",
      "    dxt               (yh, xh) float32 ...\n",
      "    dyCu              (yh, xq) float32 ...\n",
      "    dyCv              (yq, xh) float32 ...\n",
      "    dyt               (yh, xh) float32 ...\n",
      "    geolat            (yh, xh) float32 ...\n",
      "    geolat_c          (yq, xq) float32 ...\n",
      "    geolat_u          (yh, xq) float32 ...\n",
      "    geolat_v          (yq, xh) float32 ...\n",
      "    geolon            (yh, xh) float32 ...\n",
      "    geolon_c          (yq, xq) float32 ...\n",
      "    geolon_u          (yh, xq) float32 ...\n",
      "    geolon_v          (yq, xh) float32 ...\n",
      "    hfgeou            (yh, xh) float32 ...\n",
      "    sftof             (yh, xh) float32 ...\n",
      "    wet               (yh, xh) float32 ...\n",
      "    wet_c             (yq, xq) float32 ...\n",
      "    wet_u             (yh, xq) float32 ...\n",
      "    wet_v             (yq, xh) float32 ...\n"
     ]
    }
   ],
   "source": [
    "print(ds_save)"
   ]
  },
  {
   "cell_type": "code",
   "execution_count": 7,
   "metadata": {},
   "outputs": [
    {
     "name": "stdout",
     "output_type": "stream",
     "text": [
      "CPU times: user 10 ms, sys: 1 ms, total: 11 ms\n",
      "Wall time: 10 ms\n"
     ]
    }
   ],
   "source": [
    "%%time\n",
    "ds_save = (xr.merge([ds_full_mean, umo_2d, vmo_2d, ds_grid]))"
   ]
  },
  {
   "cell_type": "code",
   "execution_count": 10,
   "metadata": {},
   "outputs": [
    {
     "name": "stdout",
     "output_type": "stream",
     "text": [
      "<xarray.Dataset>\n",
      "Dimensions:           (nv: 2, xh: 1440, xq: 1440, yh: 1080, yq: 1080)\n",
      "Coordinates:\n",
      "  * xh                (xh) float64 -299.7 -299.5 -299.2 ... 59.53 59.78 60.03\n",
      "  * yh                (yh) float64 -80.39 -80.31 -80.23 ... 89.73 89.84 89.95\n",
      "  * xq                (xq) float64 -299.6 -299.3 -299.1 ... 59.66 59.91 60.16\n",
      "  * yq                (yq) float64 -80.35 -80.27 -80.19 ... 89.78 89.89 90.0\n",
      "  * nv                (nv) float64 1.0 2.0\n",
      "Data variables:\n",
      "    hf_CAu_2d         (yh, xq) float32 nan nan nan nan nan ... nan nan nan nan\n",
      "    hf_CAv_2d         (yq, xh) float32 nan nan nan nan nan ... nan nan nan nan\n",
      "    hf_PFu_2d         (yh, xq) float32 nan nan nan nan nan ... nan nan nan nan\n",
      "    hf_PFv_2d         (yq, xh) float32 nan nan nan nan nan ... nan nan nan nan\n",
      "    hf_diffu_2d       (yh, xq) float32 nan nan nan nan nan ... nan nan nan nan\n",
      "    hf_diffv_2d       (yq, xh) float32 nan nan nan nan nan ... nan nan nan nan\n",
      "    hf_du_dt_visc_2d  (yh, xq) float32 nan nan nan nan nan ... nan nan nan nan\n",
      "    hf_dudt_2d        (yh, xq) float32 nan nan nan nan nan ... nan nan nan nan\n",
      "    hf_dv_dt_visc_2d  (yq, xh) float32 nan nan nan nan nan ... nan nan nan nan\n",
      "    hf_dvdt_2d        (yq, xh) float32 nan nan nan nan nan ... nan nan nan nan\n",
      "    hf_gKEu_2d        (yh, xq) float32 nan nan nan nan nan ... nan nan nan nan\n",
      "    hf_gKEv_2d        (yq, xh) float32 nan nan nan nan nan ... nan nan nan nan\n",
      "    hf_rvxu_2d        (yq, xh) float32 nan nan nan nan nan ... nan nan nan nan\n",
      "    hf_rvxv_2d        (yh, xq) float32 nan nan nan nan nan ... nan nan nan nan\n",
      "    hf_u_BT_accel_2d  (yh, xq) float32 nan nan nan nan nan ... nan nan nan nan\n",
      "    hf_v_BT_accel_2d  (yq, xh) float32 nan nan nan nan nan ... nan nan nan nan\n",
      "    pbo               (yh, xh) float32 nan nan nan nan nan ... nan nan nan nan\n",
      "    taux              (yh, xq) float32 nan nan nan nan nan ... nan nan nan nan\n",
      "    taux_bot          (yh, xq) float32 nan nan nan nan nan ... nan nan nan nan\n",
      "    tauy              (yq, xh) float32 nan nan nan nan nan ... nan nan nan nan\n",
      "    tauy_bot          (yq, xh) float32 nan nan nan nan nan ... nan nan nan nan\n",
      "    ubt_dt            (yh, xq) float32 nan nan nan nan nan ... nan nan nan nan\n",
      "    vbt_dt            (yq, xh) float32 nan nan nan nan nan ... nan nan nan nan\n",
      "    wfo               (yh, xh) float32 nan nan nan nan nan ... nan nan nan nan\n",
      "    col_height        (yh, xh) float32 nan nan nan nan nan ... nan nan nan nan\n",
      "    average_DT        timedelta64[ns] 365 days\n",
      "    umo               (yh, xq) float32 0.0 0.0 0.0 0.0 0.0 ... 0.0 0.0 0.0 0.0\n",
      "    vmo               (yq, xh) float32 0.0 0.0 0.0 0.0 0.0 ... 0.0 0.0 0.0 0.0\n",
      "    Coriolis          (yq, xq) float32 ...\n",
      "    areacello         (yh, xh) float32 ...\n",
      "    areacello_bu      (yq, xq) float32 ...\n",
      "    areacello_cu      (yh, xq) float32 ...\n",
      "    areacello_cv      (yq, xh) float32 ...\n",
      "    deptho            (yh, xh) float32 ...\n",
      "    dxCu              (yh, xq) float32 ...\n",
      "    dxCv              (yq, xh) float32 ...\n",
      "    dxt               (yh, xh) float32 ...\n",
      "    dyCu              (yh, xq) float32 ...\n",
      "    dyCv              (yq, xh) float32 ...\n",
      "    dyt               (yh, xh) float32 ...\n",
      "    geolat            (yh, xh) float32 ...\n",
      "    geolat_c          (yq, xq) float32 ...\n",
      "    geolat_u          (yh, xq) float32 ...\n",
      "    geolat_v          (yq, xh) float32 ...\n",
      "    geolon            (yh, xh) float32 ...\n",
      "    geolon_c          (yq, xq) float32 ...\n",
      "    geolon_u          (yh, xq) float32 ...\n",
      "    geolon_v          (yq, xh) float32 ...\n",
      "    hfgeou            (yh, xh) float32 ...\n",
      "    sftof             (yh, xh) float32 ...\n",
      "    wet               (yh, xh) float32 ...\n",
      "    wet_c             (yq, xq) float32 ...\n",
      "    wet_u             (yh, xq) float32 ...\n",
      "    wet_v             (yq, xh) float32 ...\n",
      "CPU times: user 1.79 s, sys: 374 ms, total: 2.16 s\n",
      "Wall time: 2.27 s\n"
     ]
    }
   ],
   "source": [
    "#%%time\n",
    "print(ds_save)\n",
    "\n",
    "# for OM125\n",
    "#ds_save.to_netcdf(\"/work/Hemant.Khatri/MOM6_idealised/MOM_budget/Global_MOM6/Mom_Budget_OM125_0001_0005.nc\")\n",
    "\n",
    "# for OM25\n",
    "%time ds_save.to_netcdf(\"/work/Hemant.Khatri/MOM6_idealised/MOM_budget/Global_MOM6/Mom_Budget_OM25_0001_0005.nc\")\n",
    "\n",
    "# Note: Do not use hyphen in nc file names. It slows down file writing badly. "
   ]
  },
  {
   "cell_type": "code",
   "execution_count": 18,
   "metadata": {},
   "outputs": [
    {
     "name": "stderr",
     "output_type": "stream",
     "text": [
      "distributed.nanny - WARNING - Worker process still alive after 3 seconds, killing\n",
      "distributed.nanny - WARNING - Worker process still alive after 3 seconds, killing\n"
     ]
    }
   ],
   "source": [
    "drop_var = ['Heat_PmE', 'LwLatSens', 'col_mass', 'evs', 'ficeberg', 'friver','fsitherm','heat_content_cond', \n",
    "           'heat_content_fprec','heat_content_massin', 'heat_content_massout', 'heat_content_surfwater',\n",
    "           'hfds', 'hfevapds', 'hfibthermds', 'hflso', 'hfrainds', 'hfrunoffds', 'hfsifrazil', 'hfsnthermds', \n",
    "           'hfsso', 'mass_wt', 'net_heat_coupler', 'net_massin', 'net_massout', 'nonpenSW', 'opottempmint',\n",
    "          'prlq', 'prsn', 'rlntds', 'rsdo', 'rsntds', 'sfdsi', 'somint', 'tauuo', 'tauvo', 'ustar']\n",
    "\n",
    "ds_save = ds_full.drop(drop_var)\n",
    "\n",
    "ds_save = ds_save.mean('time')"
   ]
  },
  {
   "cell_type": "code",
   "execution_count": 7,
   "metadata": {},
   "outputs": [
    {
     "name": "stdout",
     "output_type": "stream",
     "text": [
      "['Heat_PmE', 'average_DT', 'average_T1', 'average_T2', 'time_bnds', 'LwLatSens', 'MLD_003', 'MLD_003_max', 'MLD_003_min', 'MLD_EN1', 'MLD_EN1_max', 'MLD_EN1_min', 'MLD_EN2', 'MLD_EN3', 'S_adx_2d', 'S_ady_2d', 'T_adx_2d', 'T_ady_2d', 'col_height', 'col_mass', 'ePBL_h_ML', 'evs', 'ficeberg', 'friver', 'fsitherm', 'heat_content_cond', 'heat_content_fprec', 'heat_content_massin', 'heat_content_massout', 'heat_content_surfwater', 'hf_CAu_2d', 'hf_CAv_2d', 'hf_PFu_2d', 'hf_PFv_2d', 'hf_diffu_2d', 'hf_diffv_2d', 'hf_du_dt_visc_2d', 'hf_dudt_2d', 'hf_dv_dt_visc_2d', 'hf_dvdt_2d', 'hf_gKEu_2d', 'hf_gKEv_2d', 'hf_rvxu_2d', 'hf_rvxv_2d', 'hf_u_BT_accel_2d', 'hf_v_BT_accel_2d', 'hfds', 'hfevapds', 'hfibthermds', 'hflso', 'hfrainds', 'hfrunoffds', 'hfsifrazil', 'hfsnthermds', 'hfsso', 'mass_wt', 'net_heat_coupler', 'net_massin', 'net_massout', 'nonpenSW', 'opottempmint', 'pbo', 'prlq', 'prsn', 'rlntds', 'rsdo', 'rsntds', 'sfdsi', 'sob', 'somint', 'tauuo', 'tauvo', 'taux', 'taux_bot', 'tauy', 'tauy_bot', 'tob', 'ubt_dt', 'ustar', 'vbt_dt', 'volcello', 'wfo']\n"
     ]
    }
   ],
   "source": [
    "print(list(ds_full.keys()))"
   ]
  },
  {
   "cell_type": "code",
   "execution_count": null,
   "metadata": {},
   "outputs": [],
   "source": [
    "#get_var = ['hf_CAu_2d', 'hf_CAv_2d', 'hf_PFu_2d', 'hf_PFv_2d', 'hf_diffu_2d', 'hf_diffv_2d', 'hf_du_dt_visc_2d', \n",
    "#            'hf_dudt_2d', 'hf_dv_dt_visc_2d', 'hf_dvdt_2d', 'hf_gKEu_2d', 'hf_gKEv_2d', 'hf_rvxu_2d',\n",
    "#            'hf_rvxv_2d', 'hf_u_BT_accel_2d', 'hf_v_BT_accel_2d','pbo','taux', 'taux_bot', 'tauy', 'tauy_bot',\n",
    "#            'ubt_dt','vbt_dt','wfo','col_height']"
   ]
  },
  {
   "cell_type": "code",
   "execution_count": 35,
   "metadata": {},
   "outputs": [
    {
     "name": "stdout",
     "output_type": "stream",
     "text": [
      "0.329743032\n"
     ]
    }
   ],
   "source": [
    "print(ds_save.nbytes/1e9)"
   ]
  },
  {
   "cell_type": "code",
   "execution_count": 14,
   "metadata": {},
   "outputs": [],
   "source": [
    "ds_save.close()\n",
    "ds_umo.close()\n",
    "ds_vmo.close()\n",
    "ds_full.close()\n",
    "client.close()\n",
    "cluster.close()"
   ]
  },
  {
   "cell_type": "code",
   "execution_count": null,
   "metadata": {},
   "outputs": [],
   "source": []
  }
 ],
 "metadata": {
  "kernelspec": {
   "display_name": "Python 3",
   "language": "python",
   "name": "python3"
  },
  "language_info": {
   "codemirror_mode": {
    "name": "ipython",
    "version": 3
   },
   "file_extension": ".py",
   "mimetype": "text/x-python",
   "name": "python",
   "nbconvert_exporter": "python",
   "pygments_lexer": "ipython3",
   "version": "3.7.9"
  }
 },
 "nbformat": 4,
 "nbformat_minor": 4
}
