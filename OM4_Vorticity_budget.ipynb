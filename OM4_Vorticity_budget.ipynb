{
 "cells": [
  {
   "cell_type": "markdown",
   "metadata": {},
   "source": [
    "## Theory of Vorticity Budgets\n",
    "\n",
    "The governing momentum and continuity equatiions are \n",
    "\\begin{equation}\n",
    "\\partial_t\\mathbf{u} = - f \\mathbf{\\hat{z}} \\wedge \\mathbf{u} - \\dfrac{1}{\\rho_o}\\nabla p + \\dfrac{1}{\\rho_o}\\partial_z\\boldsymbol{\\tau} + \\mathbf{a + b}\n",
    "\\end{equation}\n",
    "\\begin{equation}\n",
    "\\partial_x u +\\partial_y v + \\partial_z w = 0 \n",
    "\\end{equation}\n",
    "\n",
    "Here, $\\mathbf{u} = (u, v)$ is the horizontal velocity, $\\boldsymbol{\\tau}$ is the forcing associated with wind shear and bottom drag. $\\mathbf{a}$ and $\\mathbf{b}$ represent the relative vorticity advection and horizontal viscous dissipation, respectively.\n",
    "\n",
    "#### Depth-averaged vorticity budget\n",
    "\n",
    "The vorticity equation can be derived by taking curl of the momentum equation.\n",
    "\\begin{equation}\n",
    "\\partial_t\\zeta = - v\\partial_y f + f\\partial_z w + \\dfrac{1}{\\rho_o} \\nabla \\wedge\\boldsymbol{ \\tau} + \\nabla \\wedge \\mathbf{a} + \\nabla \\wedge \\mathbf{b}\n",
    "\\end{equation}\n",
    "\n",
    "Further, we can integrate the vorticity equation and divide the ocean depth $H(x,y)$ to look at the depth-averaged vorticity budget, which is given as (let $\\langle \\cdot \\rangle = 1/H(x,y)\\int_z dz$)\n",
    "\n",
    "\\begin{equation}\n",
    "\\partial_t \\langle \\zeta \\rangle = - \\beta \\langle v\\rangle + \\dfrac{f}{H}\\left(w_s - w_b \\right)+ \\dfrac{1}{H\\rho_o}\\nabla \\wedge\\left(\\boldsymbol{ \\tau_s - \\tau_b}\\right) + \\langle\\nabla \\wedge \\mathbf{a}\\rangle + \\langle\\nabla \\wedge \\mathbf{b}\\rangle\n",
    "\\end{equation}\n",
    "\n",
    "Subscripts $s$ and $b$ indicate the values at the surface and bottom of the ocean. Further, by applying time-mean (indicated with overbars), the balance is  \n",
    "\n",
    "\\begin{equation}\n",
    "\\beta \\langle \\overline{v}\\rangle = \\dfrac{f}{H}\\left(\\overline{w_s} - \\overline{w_b} \\right)+ \\dfrac{1}{H\\rho_o}\\nabla \\wedge\\left(\\boldsymbol{ \\overline{\\tau_s} - \\overline{\\tau_b}}\\right) + \\langle\\nabla \\wedge \\mathbf{\\overline{a}}\\rangle + \\langle\\nabla \\wedge \\mathbf{\\overline{b}}\\rangle\n",
    "\\end{equation}\n",
    "\n",
    "#### Vorticity budget from depth-averaged momentum equation \n",
    "\n",
    "Another method to derive vorticity budget is to take curl of the depth-averaged momentum equation. This approach results in a different budget terms than obtained in the method above. Let's derive the equation first and we further discuss the key differences between the approaches.\n",
    "\n",
    "There are two ways to compute vorticity of the depth integrated flow. \n",
    "\n",
    "\\begin{enumerate}\n",
    "    \\item {\\bf Vorticity of depth-averaged flow}: Take the curl of the depth-averaged momentum equation \\eqref{eq:time-derivative-barotropic}, and the resulting tendency term represents the rate of change of the vorticity of the depth-averaged flow.\n",
    "    \\item {\\sc depth integrated vorticity equation}: Compute the depth integral of the vorticity equation \\eqref{eq:continuous-vorticity-equation}.\n",
    "    \n",
    "\\end{enumerate}{}\n",
    " \n",
    "The first approach introduces a term called JEBAR (joint effect of baroclinicity and relief) into the vorticity equation for the depth averaged velocity \\citep{mertz1992interpretations}. JEBAR is a correction to the vortex-stretching term due to variable topography and does not represent any physical process and as such has led to some  misunderstanding  \\citep{mertz1992interpretations,cane1998utility}. In order to avoid ambiguity, the second approach should be used as JEBAR term does not appear in the vorticity budget. \n",
    "\n"
   ]
  },
  {
   "cell_type": "code",
   "execution_count": null,
   "metadata": {},
   "outputs": [],
   "source": []
  }
 ],
 "metadata": {
  "kernelspec": {
   "display_name": "Python 3",
   "language": "python",
   "name": "python3"
  },
  "language_info": {
   "codemirror_mode": {
    "name": "ipython",
    "version": 3
   },
   "file_extension": ".py",
   "mimetype": "text/x-python",
   "name": "python",
   "nbconvert_exporter": "python",
   "pygments_lexer": "ipython3",
   "version": "3.7.9"
  }
 },
 "nbformat": 4,
 "nbformat_minor": 4
}
