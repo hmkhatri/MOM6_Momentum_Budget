{
 "cells": [
  {
   "cell_type": "markdown",
   "metadata": {},
   "source": [
    "### Saving time-averages of the data in separate files"
   ]
  },
  {
   "cell_type": "code",
   "execution_count": 1,
   "metadata": {},
   "outputs": [
    {
     "data": {
      "text/html": [
       "<table style=\"border: 2px solid white;\">\n",
       "<tr>\n",
       "<td style=\"vertical-align: top; border: 0px solid white\">\n",
       "<h3 style=\"text-align: left;\">Client</h3>\n",
       "<ul style=\"text-align: left; list-style: none; margin: 0; padding: 0;\">\n",
       "  <li><b>Scheduler: </b>tcp://127.0.0.1:46628</li>\n",
       "  <li><b>Dashboard: </b><a href='http://127.0.0.1:8787/status' target='_blank'>http://127.0.0.1:8787/status</a></li>\n",
       "</ul>\n",
       "</td>\n",
       "<td style=\"vertical-align: top; border: 0px solid white\">\n",
       "<h3 style=\"text-align: left;\">Cluster</h3>\n",
       "<ul style=\"text-align: left; list-style:none; margin: 0; padding: 0;\">\n",
       "  <li><b>Workers: </b>4</li>\n",
       "  <li><b>Cores: </b>16</li>\n",
       "  <li><b>Memory: </b>406.01 GB</li>\n",
       "</ul>\n",
       "</td>\n",
       "</tr>\n",
       "</table>"
      ],
      "text/plain": [
       "<Client: 'tcp://127.0.0.1:46628' processes=4 threads=16, memory=406.01 GB>"
      ]
     },
     "execution_count": 1,
     "metadata": {},
     "output_type": "execute_result"
    }
   ],
   "source": [
    "import xarray as xr\n",
    "import matplotlib.pyplot as plt\n",
    "import matplotlib.ticker as mticker\n",
    "from cartopy.mpl.gridliner import LONGITUDE_FORMATTER, LATITUDE_FORMATTER\n",
    "import cartopy.crs as ccrs\n",
    "import cartopy.feature as cfeature\n",
    "import numpy as np\n",
    "from xgcm import Grid\n",
    "import filter\n",
    "from dask.diagnostics import ProgressBar\n",
    "%matplotlib inline\n",
    "import warnings\n",
    "warnings.filterwarnings('ignore')\n",
    "import glob, os\n",
    "\n",
    "from dask.distributed import Client\n",
    "from dask.distributed import LocalCluster\n",
    "cluster = LocalCluster()\n",
    "client = Client(cluster)\n",
    "\n",
    "client"
   ]
  },
  {
   "cell_type": "code",
   "execution_count": 2,
   "metadata": {},
   "outputs": [],
   "source": [
    "get_var = ['hf_CAu_2d', 'hf_CAv_2d', 'hf_PFu_2d', 'hf_PFv_2d', 'hf_diffu_2d', 'hf_diffv_2d', 'hf_du_dt_visc_2d', \n",
    "            'hf_dudt_2d', 'hf_dv_dt_visc_2d', 'hf_dvdt_2d', 'hf_gKEu_2d', 'hf_gKEv_2d', 'hf_rvxu_2d',\n",
    "            'hf_rvxv_2d', 'hf_u_BT_accel_2d', 'hf_v_BT_accel_2d','pbo','taux', 'taux_bot', 'tauy', 'tauy_bot',\n",
    "            'ubt_dt','vbt_dt','wfo','col_height']"
   ]
  },
  {
   "cell_type": "markdown",
   "metadata": {},
   "source": [
    "#### Read Data first (for OM125 output)"
   ]
  },
  {
   "cell_type": "code",
   "execution_count": 2,
   "metadata": {},
   "outputs": [],
   "source": [
    "path = \"/archive/Raphael.Dussin/FMS2019.01.03_devgfdl_20201120/CM4_piControl_c192_OM4p125/gfdl.ncrc4-intel18-prod-openmp/pp/ocean_monthly/ts/monthly/5yr/\"\n",
    "\n",
    "ds_full = xr.open_mfdataset(path + \"ocean_monthly.000101-000512*.nc\")\n",
    "ds_full = ds_full.isel(xq = slice(1,2881), yq=slice(1,2241))\n",
    "\n",
    "ds_full = ds_full.get(get_var)\n",
    "\n",
    "ppdir1 = \"/archive/Raphael.Dussin/FMS2019.01.03_devgfdl_20201120/CM4_piControl_c192_OM4p125/gfdl.ncrc4-intel18-prod-openmp/pp/ocean_monthly/\"\n",
    "\n",
    "ds_grid = xr.open_dataset(ppdir1 + \"ocean_monthly.static.nc\")\n",
    "ds_grid = ds_grid.isel(xq = slice(0,2880), yq=slice(0,2240))\n",
    "\n",
    "ds_full = xr.merge([ds_full, ds_grid])"
   ]
  },
  {
   "cell_type": "code",
   "execution_count": 3,
   "metadata": {},
   "outputs": [],
   "source": [
    "path2 = \"/archive/Raphael.Dussin/FMS2019.01.03_devgfdl_20201120/CM4_piControl_c192_OM4p125/gfdl.ncrc4-intel18-prod-openmp/pp/ocean_annual_z/ts/annual/10yr/\"\n",
    "\n",
    "ds_vmo = xr.open_dataset(path2 + \"ocean_annual_z.0001-0010.vmo.nc\")\n",
    "ds_umo = xr.open_dataset(path2 + \"ocean_annual_z.0001-0010.umo.nc\")"
   ]
  },
  {
   "cell_type": "code",
   "execution_count": null,
   "metadata": {},
   "outputs": [],
   "source": [
    "%%time\n",
    "\n",
    "ds_save = (ds_save.chunk({'xh': 500, 'yh': 500, 'xq': 500, 'yq': 500})).mean('time')\n",
    "\n",
    "vmo_2d = (ds_vmo['vmo'].isel(yq=slice(1,2241),time=slice(0,5)).mean('time')).sum('z_l')\n",
    "\n",
    "umo_2d = (ds_umo['umo'].isel(xq=slice(1,2881),time=slice(0,5)).mean('time')).sum('z_l')\n",
    "\n",
    "ds_save = xr.merge([ds_save, vmo_2d, umo_2d])"
   ]
  },
  {
   "cell_type": "code",
   "execution_count": null,
   "metadata": {},
   "outputs": [],
   "source": [
    "# for OM125\n",
    "ds_save.to_netcdf(\"/work/Hemant.Khatri/MOM6_idealised/MOM_budget/Global_MOM6/Mom_Budget_OM125_0001_0005.nc\")"
   ]
  },
  {
   "cell_type": "markdown",
   "metadata": {},
   "source": [
    "#### Read Data first (for OM25 output)"
   ]
  },
  {
   "cell_type": "code",
   "execution_count": 3,
   "metadata": {},
   "outputs": [
    {
     "name": "stdout",
     "output_type": "stream",
     "text": [
      "CPU times: user 8.44 s, sys: 331 ms, total: 8.77 s\n",
      "Wall time: 18 s\n"
     ]
    }
   ],
   "source": [
    "%%time\n",
    "\n",
    "path = \"/archive/Raphael.Dussin/FMS2019.01.03_devgfdl_20201120/CM4_piControl_c96_OM4p25/gfdl.ncrc4-intel18-prod-openmp/pp/ocean_monthly/ts/monthly/5yr/\"\n",
    "\n",
    "ds_full = xr.open_mfdataset(path + \"ocean_monthly.000101-000512*.nc\", parallel=True, decode_times=False)\n",
    "ds_full = ds_full.isel(xq = slice(1,1441), yq=slice(1,1081))\n",
    "\n",
    "ds_full = ds_full.get(get_var)\n",
    "\n",
    "ppdir1 = \"/archive/Raphael.Dussin/FMS2019.01.03_devgfdl_20201120/CM4_piControl_c96_OM4p25/gfdl.ncrc4-intel18-prod-openmp/pp/ocean_monthly/\"\n",
    "\n",
    "ds_grid = xr.open_dataset(ppdir1 + \"ocean_monthly.static.nc\")\n",
    "ds_grid = ds_grid.isel(xq = slice(1,1441), yq=slice(1,1081))\n",
    "\n",
    "#ds_full = xr.merge([ds_full, ds_grid])"
   ]
  },
  {
   "cell_type": "code",
   "execution_count": 4,
   "metadata": {},
   "outputs": [
    {
     "name": "stdout",
     "output_type": "stream",
     "text": [
      "CPU times: user 43 ms, sys: 14 ms, total: 57 ms\n",
      "Wall time: 413 ms\n"
     ]
    }
   ],
   "source": [
    "%%time\n",
    "\n",
    "path2 = \"/archive/Raphael.Dussin/FMS2019.01.03_devgfdl_20201120/CM4_piControl_c96_OM4p25/gfdl.ncrc4-intel18-prod-openmp/pp/ocean_annual_z/ts/annual/10yr/\"\n",
    "\n",
    "ds_vmo = xr.open_dataset(path2 + \"ocean_annual_z.0001-0010.vmo.nc\")\n",
    "ds_vmo = ds_vmo.isel(yq=slice(1,1081),time=slice(0,5)).chunk({'xh': 500,'yq': 500})\n",
    "\n",
    "ds_umo = xr.open_dataset(path2 + \"ocean_annual_z.0001-0010.umo.nc\")\n",
    "ds_umo = ds_umo.isel(xq = slice(1,1441),time=slice(0,5)).chunk({'xq': 500,'yh': 500})"
   ]
  },
  {
   "cell_type": "code",
   "execution_count": 5,
   "metadata": {},
   "outputs": [
    {
     "name": "stdout",
     "output_type": "stream",
     "text": [
      "CPU times: user 1.67 s, sys: 388 ms, total: 2.05 s\n",
      "Wall time: 16.7 s\n",
      "CPU times: user 371 ms, sys: 40 ms, total: 411 ms\n",
      "Wall time: 8.53 s\n",
      "CPU times: user 413 ms, sys: 48 ms, total: 461 ms\n",
      "Wall time: 9.29 s\n"
     ]
    }
   ],
   "source": [
    "# Time-mean\n",
    "%time ds_full_mean = (ds_full.chunk({'xh': 500, 'yh': 500, 'xq': 500, 'yq': 500})).mean('time').load()\n",
    "\n",
    "%time umo_2d = (ds_umo.mean('time')).sum('z_l').drop(['z_i']).load()\n",
    "\n",
    "%time vmo_2d = (ds_vmo.mean('time')).sum('z_l').drop(['z_i']).load()"
   ]
  },
  {
   "cell_type": "code",
   "execution_count": 8,
   "metadata": {},
   "outputs": [
    {
     "name": "stdout",
     "output_type": "stream",
     "text": [
      "<xarray.Dataset>\n",
      "Dimensions:           (nv: 2, xh: 1440, xq: 1440, yh: 1080, yq: 1080)\n",
      "Coordinates:\n",
      "  * xh                (xh) float64 -299.7 -299.5 -299.2 ... 59.53 59.78 60.03\n",
      "  * yh                (yh) float64 -80.39 -80.31 -80.23 ... 89.73 89.84 89.95\n",
      "  * xq                (xq) float64 -299.6 -299.3 -299.1 ... 59.66 59.91 60.16\n",
      "  * yq                (yq) float64 -80.35 -80.27 -80.19 ... 89.78 89.89 90.0\n",
      "  * nv                (nv) float64 1.0 2.0\n",
      "Data variables:\n",
      "    hf_CAu_2d         (yh, xq) float32 nan nan nan nan nan ... nan nan nan nan\n",
      "    hf_CAv_2d         (yq, xh) float32 nan nan nan nan nan ... nan nan nan nan\n",
      "    hf_PFu_2d         (yh, xq) float32 nan nan nan nan nan ... nan nan nan nan\n",
      "    hf_PFv_2d         (yq, xh) float32 nan nan nan nan nan ... nan nan nan nan\n",
      "    hf_diffu_2d       (yh, xq) float32 nan nan nan nan nan ... nan nan nan nan\n",
      "    hf_diffv_2d       (yq, xh) float32 nan nan nan nan nan ... nan nan nan nan\n",
      "    hf_du_dt_visc_2d  (yh, xq) float32 nan nan nan nan nan ... nan nan nan nan\n",
      "    hf_dudt_2d        (yh, xq) float32 nan nan nan nan nan ... nan nan nan nan\n",
      "    hf_dv_dt_visc_2d  (yq, xh) float32 nan nan nan nan nan ... nan nan nan nan\n",
      "    hf_dvdt_2d        (yq, xh) float32 nan nan nan nan nan ... nan nan nan nan\n",
      "    hf_gKEu_2d        (yh, xq) float32 nan nan nan nan nan ... nan nan nan nan\n",
      "    hf_gKEv_2d        (yq, xh) float32 nan nan nan nan nan ... nan nan nan nan\n",
      "    hf_rvxu_2d        (yq, xh) float32 nan nan nan nan nan ... nan nan nan nan\n",
      "    hf_rvxv_2d        (yh, xq) float32 nan nan nan nan nan ... nan nan nan nan\n",
      "    hf_u_BT_accel_2d  (yh, xq) float32 nan nan nan nan nan ... nan nan nan nan\n",
      "    hf_v_BT_accel_2d  (yq, xh) float32 nan nan nan nan nan ... nan nan nan nan\n",
      "    pbo               (yh, xh) float32 nan nan nan nan nan ... nan nan nan nan\n",
      "    taux              (yh, xq) float32 nan nan nan nan nan ... nan nan nan nan\n",
      "    taux_bot          (yh, xq) float32 nan nan nan nan nan ... nan nan nan nan\n",
      "    tauy              (yq, xh) float32 nan nan nan nan nan ... nan nan nan nan\n",
      "    tauy_bot          (yq, xh) float32 nan nan nan nan nan ... nan nan nan nan\n",
      "    ubt_dt            (yh, xq) float32 nan nan nan nan nan ... nan nan nan nan\n",
      "    vbt_dt            (yq, xh) float32 nan nan nan nan nan ... nan nan nan nan\n",
      "    wfo               (yh, xh) float32 nan nan nan nan nan ... nan nan nan nan\n",
      "    col_height        (yh, xh) float32 nan nan nan nan nan ... nan nan nan nan\n",
      "    average_DT        timedelta64[ns] 365 days\n",
      "    umo               (yh, xq) float32 0.0 0.0 0.0 0.0 0.0 ... 0.0 0.0 0.0 0.0\n",
      "    vmo               (yq, xh) float32 0.0 0.0 0.0 0.0 0.0 ... 0.0 0.0 0.0 0.0\n",
      "    Coriolis          (yq, xq) float32 ...\n",
      "    areacello         (yh, xh) float32 ...\n",
      "    areacello_bu      (yq, xq) float32 ...\n",
      "    areacello_cu      (yh, xq) float32 ...\n",
      "    areacello_cv      (yq, xh) float32 ...\n",
      "    deptho            (yh, xh) float32 ...\n",
      "    dxCu              (yh, xq) float32 ...\n",
      "    dxCv              (yq, xh) float32 ...\n",
      "    dxt               (yh, xh) float32 ...\n",
      "    dyCu              (yh, xq) float32 ...\n",
      "    dyCv              (yq, xh) float32 ...\n",
      "    dyt               (yh, xh) float32 ...\n",
      "    geolat            (yh, xh) float32 ...\n",
      "    geolat_c          (yq, xq) float32 ...\n",
      "    geolat_u          (yh, xq) float32 ...\n",
      "    geolat_v          (yq, xh) float32 ...\n",
      "    geolon            (yh, xh) float32 ...\n",
      "    geolon_c          (yq, xq) float32 ...\n",
      "    geolon_u          (yh, xq) float32 ...\n",
      "    geolon_v          (yq, xh) float32 ...\n",
      "    hfgeou            (yh, xh) float32 ...\n",
      "    sftof             (yh, xh) float32 ...\n",
      "    wet               (yh, xh) float32 ...\n",
      "    wet_c             (yq, xq) float32 ...\n",
      "    wet_u             (yh, xq) float32 ...\n",
      "    wet_v             (yq, xh) float32 ...\n"
     ]
    }
   ],
   "source": [
    "print(ds_save)"
   ]
  },
  {
   "cell_type": "code",
   "execution_count": 7,
   "metadata": {},
   "outputs": [
    {
     "name": "stdout",
     "output_type": "stream",
     "text": [
      "CPU times: user 10 ms, sys: 1 ms, total: 11 ms\n",
      "Wall time: 10 ms\n"
     ]
    }
   ],
   "source": [
    "%%time\n",
    "ds_save = (xr.merge([ds_full_mean, umo_2d, vmo_2d, ds_grid]))"
   ]
  },
  {
   "cell_type": "code",
   "execution_count": 10,
   "metadata": {},
   "outputs": [
    {
     "name": "stdout",
     "output_type": "stream",
     "text": [
      "<xarray.Dataset>\n",
      "Dimensions:           (nv: 2, xh: 1440, xq: 1440, yh: 1080, yq: 1080)\n",
      "Coordinates:\n",
      "  * xh                (xh) float64 -299.7 -299.5 -299.2 ... 59.53 59.78 60.03\n",
      "  * yh                (yh) float64 -80.39 -80.31 -80.23 ... 89.73 89.84 89.95\n",
      "  * xq                (xq) float64 -299.6 -299.3 -299.1 ... 59.66 59.91 60.16\n",
      "  * yq                (yq) float64 -80.35 -80.27 -80.19 ... 89.78 89.89 90.0\n",
      "  * nv                (nv) float64 1.0 2.0\n",
      "Data variables:\n",
      "    hf_CAu_2d         (yh, xq) float32 nan nan nan nan nan ... nan nan nan nan\n",
      "    hf_CAv_2d         (yq, xh) float32 nan nan nan nan nan ... nan nan nan nan\n",
      "    hf_PFu_2d         (yh, xq) float32 nan nan nan nan nan ... nan nan nan nan\n",
      "    hf_PFv_2d         (yq, xh) float32 nan nan nan nan nan ... nan nan nan nan\n",
      "    hf_diffu_2d       (yh, xq) float32 nan nan nan nan nan ... nan nan nan nan\n",
      "    hf_diffv_2d       (yq, xh) float32 nan nan nan nan nan ... nan nan nan nan\n",
      "    hf_du_dt_visc_2d  (yh, xq) float32 nan nan nan nan nan ... nan nan nan nan\n",
      "    hf_dudt_2d        (yh, xq) float32 nan nan nan nan nan ... nan nan nan nan\n",
      "    hf_dv_dt_visc_2d  (yq, xh) float32 nan nan nan nan nan ... nan nan nan nan\n",
      "    hf_dvdt_2d        (yq, xh) float32 nan nan nan nan nan ... nan nan nan nan\n",
      "    hf_gKEu_2d        (yh, xq) float32 nan nan nan nan nan ... nan nan nan nan\n",
      "    hf_gKEv_2d        (yq, xh) float32 nan nan nan nan nan ... nan nan nan nan\n",
      "    hf_rvxu_2d        (yq, xh) float32 nan nan nan nan nan ... nan nan nan nan\n",
      "    hf_rvxv_2d        (yh, xq) float32 nan nan nan nan nan ... nan nan nan nan\n",
      "    hf_u_BT_accel_2d  (yh, xq) float32 nan nan nan nan nan ... nan nan nan nan\n",
      "    hf_v_BT_accel_2d  (yq, xh) float32 nan nan nan nan nan ... nan nan nan nan\n",
      "    pbo               (yh, xh) float32 nan nan nan nan nan ... nan nan nan nan\n",
      "    taux              (yh, xq) float32 nan nan nan nan nan ... nan nan nan nan\n",
      "    taux_bot          (yh, xq) float32 nan nan nan nan nan ... nan nan nan nan\n",
      "    tauy              (yq, xh) float32 nan nan nan nan nan ... nan nan nan nan\n",
      "    tauy_bot          (yq, xh) float32 nan nan nan nan nan ... nan nan nan nan\n",
      "    ubt_dt            (yh, xq) float32 nan nan nan nan nan ... nan nan nan nan\n",
      "    vbt_dt            (yq, xh) float32 nan nan nan nan nan ... nan nan nan nan\n",
      "    wfo               (yh, xh) float32 nan nan nan nan nan ... nan nan nan nan\n",
      "    col_height        (yh, xh) float32 nan nan nan nan nan ... nan nan nan nan\n",
      "    average_DT        timedelta64[ns] 365 days\n",
      "    umo               (yh, xq) float32 0.0 0.0 0.0 0.0 0.0 ... 0.0 0.0 0.0 0.0\n",
      "    vmo               (yq, xh) float32 0.0 0.0 0.0 0.0 0.0 ... 0.0 0.0 0.0 0.0\n",
      "    Coriolis          (yq, xq) float32 ...\n",
      "    areacello         (yh, xh) float32 ...\n",
      "    areacello_bu      (yq, xq) float32 ...\n",
      "    areacello_cu      (yh, xq) float32 ...\n",
      "    areacello_cv      (yq, xh) float32 ...\n",
      "    deptho            (yh, xh) float32 ...\n",
      "    dxCu              (yh, xq) float32 ...\n",
      "    dxCv              (yq, xh) float32 ...\n",
      "    dxt               (yh, xh) float32 ...\n",
      "    dyCu              (yh, xq) float32 ...\n",
      "    dyCv              (yq, xh) float32 ...\n",
      "    dyt               (yh, xh) float32 ...\n",
      "    geolat            (yh, xh) float32 ...\n",
      "    geolat_c          (yq, xq) float32 ...\n",
      "    geolat_u          (yh, xq) float32 ...\n",
      "    geolat_v          (yq, xh) float32 ...\n",
      "    geolon            (yh, xh) float32 ...\n",
      "    geolon_c          (yq, xq) float32 ...\n",
      "    geolon_u          (yh, xq) float32 ...\n",
      "    geolon_v          (yq, xh) float32 ...\n",
      "    hfgeou            (yh, xh) float32 ...\n",
      "    sftof             (yh, xh) float32 ...\n",
      "    wet               (yh, xh) float32 ...\n",
      "    wet_c             (yq, xq) float32 ...\n",
      "    wet_u             (yh, xq) float32 ...\n",
      "    wet_v             (yq, xh) float32 ...\n",
      "CPU times: user 1.79 s, sys: 374 ms, total: 2.16 s\n",
      "Wall time: 2.27 s\n"
     ]
    }
   ],
   "source": [
    "#%%time\n",
    "print(ds_save)\n",
    "\n",
    "# for OM125\n",
    "#ds_save.to_netcdf(\"/work/Hemant.Khatri/MOM6_idealised/MOM_budget/Global_MOM6/Mom_Budget_OM125_0001_0005.nc\")\n",
    "\n",
    "# for OM25\n",
    "%time ds_save.to_netcdf(\"/work/Hemant.Khatri/MOM6_idealised/MOM_budget/Global_MOM6/Mom_Budget_OM25_0001_0005.nc\")\n",
    "\n",
    "# Note: Do not use hyphen in nc file names. It slows down file writing badly. "
   ]
  },
  {
   "cell_type": "code",
   "execution_count": 18,
   "metadata": {},
   "outputs": [
    {
     "name": "stderr",
     "output_type": "stream",
     "text": [
      "distributed.nanny - WARNING - Worker process still alive after 3 seconds, killing\n",
      "distributed.nanny - WARNING - Worker process still alive after 3 seconds, killing\n"
     ]
    }
   ],
   "source": [
    "drop_var = ['Heat_PmE', 'LwLatSens', 'col_mass', 'evs', 'ficeberg', 'friver','fsitherm','heat_content_cond', \n",
    "           'heat_content_fprec','heat_content_massin', 'heat_content_massout', 'heat_content_surfwater',\n",
    "           'hfds', 'hfevapds', 'hfibthermds', 'hflso', 'hfrainds', 'hfrunoffds', 'hfsifrazil', 'hfsnthermds', \n",
    "           'hfsso', 'mass_wt', 'net_heat_coupler', 'net_massin', 'net_massout', 'nonpenSW', 'opottempmint',\n",
    "          'prlq', 'prsn', 'rlntds', 'rsdo', 'rsntds', 'sfdsi', 'somint', 'tauuo', 'tauvo', 'ustar']\n",
    "\n",
    "ds_save = ds_full.drop(drop_var)\n",
    "\n",
    "ds_save = ds_save.mean('time')"
   ]
  },
  {
   "cell_type": "code",
   "execution_count": 7,
   "metadata": {},
   "outputs": [
    {
     "name": "stdout",
     "output_type": "stream",
     "text": [
      "['Heat_PmE', 'average_DT', 'average_T1', 'average_T2', 'time_bnds', 'LwLatSens', 'MLD_003', 'MLD_003_max', 'MLD_003_min', 'MLD_EN1', 'MLD_EN1_max', 'MLD_EN1_min', 'MLD_EN2', 'MLD_EN3', 'S_adx_2d', 'S_ady_2d', 'T_adx_2d', 'T_ady_2d', 'col_height', 'col_mass', 'ePBL_h_ML', 'evs', 'ficeberg', 'friver', 'fsitherm', 'heat_content_cond', 'heat_content_fprec', 'heat_content_massin', 'heat_content_massout', 'heat_content_surfwater', 'hf_CAu_2d', 'hf_CAv_2d', 'hf_PFu_2d', 'hf_PFv_2d', 'hf_diffu_2d', 'hf_diffv_2d', 'hf_du_dt_visc_2d', 'hf_dudt_2d', 'hf_dv_dt_visc_2d', 'hf_dvdt_2d', 'hf_gKEu_2d', 'hf_gKEv_2d', 'hf_rvxu_2d', 'hf_rvxv_2d', 'hf_u_BT_accel_2d', 'hf_v_BT_accel_2d', 'hfds', 'hfevapds', 'hfibthermds', 'hflso', 'hfrainds', 'hfrunoffds', 'hfsifrazil', 'hfsnthermds', 'hfsso', 'mass_wt', 'net_heat_coupler', 'net_massin', 'net_massout', 'nonpenSW', 'opottempmint', 'pbo', 'prlq', 'prsn', 'rlntds', 'rsdo', 'rsntds', 'sfdsi', 'sob', 'somint', 'tauuo', 'tauvo', 'taux', 'taux_bot', 'tauy', 'tauy_bot', 'tob', 'ubt_dt', 'ustar', 'vbt_dt', 'volcello', 'wfo']\n"
     ]
    }
   ],
   "source": [
    "print(list(ds_full.keys()))"
   ]
  },
  {
   "cell_type": "code",
   "execution_count": null,
   "metadata": {},
   "outputs": [],
   "source": [
    "#get_var = ['hf_CAu_2d', 'hf_CAv_2d', 'hf_PFu_2d', 'hf_PFv_2d', 'hf_diffu_2d', 'hf_diffv_2d', 'hf_du_dt_visc_2d', \n",
    "#            'hf_dudt_2d', 'hf_dv_dt_visc_2d', 'hf_dvdt_2d', 'hf_gKEu_2d', 'hf_gKEv_2d', 'hf_rvxu_2d',\n",
    "#            'hf_rvxv_2d', 'hf_u_BT_accel_2d', 'hf_v_BT_accel_2d','pbo','taux', 'taux_bot', 'tauy', 'tauy_bot',\n",
    "#            'ubt_dt','vbt_dt','wfo','col_height']"
   ]
  },
  {
   "cell_type": "code",
   "execution_count": 35,
   "metadata": {},
   "outputs": [
    {
     "name": "stdout",
     "output_type": "stream",
     "text": [
      "0.329743032\n"
     ]
    }
   ],
   "source": [
    "print(ds_save.nbytes/1e9)"
   ]
  },
  {
   "cell_type": "code",
   "execution_count": 11,
   "metadata": {},
   "outputs": [],
   "source": [
    "ds_save.close()\n",
    "ds_umo.close()\n",
    "ds_vmo.close()\n",
    "ds_full.close()\n",
    "client.close()\n",
    "cluster.close()"
   ]
  },
  {
   "cell_type": "code",
   "execution_count": null,
   "metadata": {},
   "outputs": [],
   "source": []
  }
 ],
 "metadata": {
  "kernelspec": {
   "display_name": "Python 3",
   "language": "python",
   "name": "python3"
  },
  "language_info": {
   "codemirror_mode": {
    "name": "ipython",
    "version": 3
   },
   "file_extension": ".py",
   "mimetype": "text/x-python",
   "name": "python",
   "nbconvert_exporter": "python",
   "pygments_lexer": "ipython3",
   "version": "3.7.9"
  }
 },
 "nbformat": 4,
 "nbformat_minor": 4
}
