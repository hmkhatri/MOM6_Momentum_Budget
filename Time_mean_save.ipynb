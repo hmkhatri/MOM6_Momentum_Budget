{
 "cells": [
  {
   "cell_type": "markdown",
   "metadata": {},
   "source": [
    "### Saving time-averages of the data in separate files"
   ]
  },
  {
   "cell_type": "code",
   "execution_count": 1,
   "metadata": {},
   "outputs": [
    {
     "data": {
      "text/html": [
       "<table style=\"border: 2px solid white;\">\n",
       "<tr>\n",
       "<td style=\"vertical-align: top; border: 0px solid white\">\n",
       "<h3 style=\"text-align: left;\">Client</h3>\n",
       "<ul style=\"text-align: left; list-style: none; margin: 0; padding: 0;\">\n",
       "  <li><b>Scheduler: </b>tcp://127.0.0.1:38018</li>\n",
       "  <li><b>Dashboard: </b><a href='http://127.0.0.1:8787/status' target='_blank'>http://127.0.0.1:8787/status</a></li>\n",
       "</ul>\n",
       "</td>\n",
       "<td style=\"vertical-align: top; border: 0px solid white\">\n",
       "<h3 style=\"text-align: left;\">Cluster</h3>\n",
       "<ul style=\"text-align: left; list-style:none; margin: 0; padding: 0;\">\n",
       "  <li><b>Workers: </b>4</li>\n",
       "  <li><b>Cores: </b>16</li>\n",
       "  <li><b>Memory: </b>406.01 GB</li>\n",
       "</ul>\n",
       "</td>\n",
       "</tr>\n",
       "</table>"
      ],
      "text/plain": [
       "<Client: 'tcp://127.0.0.1:38018' processes=4 threads=16, memory=406.01 GB>"
      ]
     },
     "execution_count": 1,
     "metadata": {},
     "output_type": "execute_result"
    }
   ],
   "source": [
    "import xarray as xr\n",
    "import matplotlib.pyplot as plt\n",
    "import matplotlib.ticker as mticker\n",
    "from cartopy.mpl.gridliner import LONGITUDE_FORMATTER, LATITUDE_FORMATTER\n",
    "import cartopy.crs as ccrs\n",
    "import cartopy.feature as cfeature\n",
    "import numpy as np\n",
    "from xgcm import Grid\n",
    "import filter\n",
    "from dask.diagnostics import ProgressBar\n",
    "%matplotlib inline\n",
    "import warnings\n",
    "warnings.filterwarnings('ignore')\n",
    "import glob, os\n",
    "\n",
    "from dask.distributed import Client\n",
    "from dask.distributed import LocalCluster\n",
    "cluster = LocalCluster()\n",
    "client = Client(cluster)\n",
    "\n",
    "client"
   ]
  },
  {
   "cell_type": "markdown",
   "metadata": {},
   "source": [
    "#### Read Data first"
   ]
  },
  {
   "cell_type": "code",
   "execution_count": 2,
   "metadata": {},
   "outputs": [],
   "source": [
    "path = \"/archive/Raphael.Dussin/FMS2019.01.03_devgfdl_20201120/CM4_piControl_c192_OM4p125/gfdl.ncrc4-intel18-prod-openmp/pp/ocean_monthly/ts/monthly/5yr/\"\n",
    "\n",
    "ds_full = xr.open_mfdataset(path + \"ocean_monthly.000101-000512*.nc\")\n",
    "ds_full = ds_full.isel(xq = slice(1,2881), yq=slice(1,2241))\n",
    "\n",
    "ppdir1 = \"/archive/Raphael.Dussin/FMS2019.01.03_devgfdl_20201120/CM4_piControl_c192_OM4p125/gfdl.ncrc4-intel18-prod-openmp/pp/ocean_monthly/\"\n",
    "\n",
    "ds_grid = xr.open_dataset(ppdir1 + \"ocean_monthly.static.nc\")\n",
    "ds_grid = ds_grid.isel(xq = slice(0,2880), yq=slice(0,2240))\n",
    "\n",
    "ds_full = xr.merge([ds_full, ds_grid])"
   ]
  },
  {
   "cell_type": "code",
   "execution_count": 3,
   "metadata": {},
   "outputs": [],
   "source": [
    "path2 = \"/archive/Raphael.Dussin/FMS2019.01.03_devgfdl_20201120/CM4_piControl_c192_OM4p125/gfdl.ncrc4-intel18-prod-openmp/pp/ocean_annual_z/ts/annual/10yr/\"\n",
    "\n",
    "ds_vmo = xr.open_dataset(path2 + \"ocean_annual_z.0001-0010.vmo.nc\")\n",
    "ds_umo = xr.open_dataset(path2 + \"ocean_annual_z.0001-0010.umo.nc\")"
   ]
  },
  {
   "cell_type": "code",
   "execution_count": 4,
   "metadata": {},
   "outputs": [
    {
     "name": "stdout",
     "output_type": "stream",
     "text": [
      "<xarray.Dataset>\n",
      "Dimensions:                 (nv: 2, time: 60, xh: 2880, xq: 2880, yh: 2240, yq: 2240, zi: 76)\n",
      "Coordinates:\n",
      "  * nv                      (nv) float64 1.0 2.0\n",
      "  * time                    (time) object 0001-01-16 12:00:00 ... 0005-12-16 ...\n",
      "  * xh                      (xh) float64 -298.6 -298.5 -298.4 ... 61.16 61.28\n",
      "  * yh                      (yh) float64 -83.62 -83.58 -83.54 ... 89.92 89.97\n",
      "  * xq                      (xq) float64 -298.5 -298.4 -298.3 ... 61.23 61.35\n",
      "  * yq                      (yq) float64 -83.6 -83.56 -83.52 ... 89.95 90.0\n",
      "  * zi                      (zi) float64 0.0 2.0 4.0 ... 3.722e+03 6.5e+03\n",
      "Data variables:\n",
      "    Heat_PmE                (time, yh, xh) float32 dask.array<chunksize=(60, 2240, 2880), meta=np.ndarray>\n",
      "    average_DT              (time) timedelta64[ns] dask.array<chunksize=(60,), meta=np.ndarray>\n",
      "    average_T1              (time) object dask.array<chunksize=(60,), meta=np.ndarray>\n",
      "    average_T2              (time) object dask.array<chunksize=(60,), meta=np.ndarray>\n",
      "    time_bnds               (time, nv) object dask.array<chunksize=(60, 2), meta=np.ndarray>\n",
      "    LwLatSens               (time, yh, xh) float32 dask.array<chunksize=(60, 2240, 2880), meta=np.ndarray>\n",
      "    col_height              (time, yh, xh) float32 dask.array<chunksize=(60, 2240, 2880), meta=np.ndarray>\n",
      "    col_mass                (time, yh, xh) float32 dask.array<chunksize=(60, 2240, 2880), meta=np.ndarray>\n",
      "    evs                     (time, yh, xh) float32 dask.array<chunksize=(60, 2240, 2880), meta=np.ndarray>\n",
      "    ficeberg                (time, yh, xh) float32 dask.array<chunksize=(60, 2240, 2880), meta=np.ndarray>\n",
      "    friver                  (time, yh, xh) float32 dask.array<chunksize=(60, 2240, 2880), meta=np.ndarray>\n",
      "    fsitherm                (time, yh, xh) float32 dask.array<chunksize=(60, 2240, 2880), meta=np.ndarray>\n",
      "    heat_content_cond       (time, yh, xh) float32 dask.array<chunksize=(60, 2240, 2880), meta=np.ndarray>\n",
      "    heat_content_fprec      (time, yh, xh) float32 dask.array<chunksize=(60, 2240, 2880), meta=np.ndarray>\n",
      "    heat_content_massin     (time, yh, xh) float32 dask.array<chunksize=(60, 2240, 2880), meta=np.ndarray>\n",
      "    heat_content_massout    (time, yh, xh) float32 dask.array<chunksize=(60, 2240, 2880), meta=np.ndarray>\n",
      "    heat_content_surfwater  (time, yh, xh) float32 dask.array<chunksize=(60, 2240, 2880), meta=np.ndarray>\n",
      "    hf_CAu_2d               (time, yh, xq) float32 dask.array<chunksize=(60, 2240, 2880), meta=np.ndarray>\n",
      "    hf_CAv_2d               (time, yq, xh) float32 dask.array<chunksize=(60, 2240, 2880), meta=np.ndarray>\n",
      "    hf_PFu_2d               (time, yh, xq) float32 dask.array<chunksize=(60, 2240, 2880), meta=np.ndarray>\n",
      "    hf_PFv_2d               (time, yq, xh) float32 dask.array<chunksize=(60, 2240, 2880), meta=np.ndarray>\n",
      "    hf_diffu_2d             (time, yh, xq) float32 dask.array<chunksize=(60, 2240, 2880), meta=np.ndarray>\n",
      "    hf_diffv_2d             (time, yq, xh) float32 dask.array<chunksize=(60, 2240, 2880), meta=np.ndarray>\n",
      "    hf_du_dt_visc_2d        (time, yh, xq) float32 dask.array<chunksize=(60, 2240, 2880), meta=np.ndarray>\n",
      "    hf_dudt_2d              (time, yh, xq) float32 dask.array<chunksize=(60, 2240, 2880), meta=np.ndarray>\n",
      "    hf_dv_dt_visc_2d        (time, yq, xh) float32 dask.array<chunksize=(60, 2240, 2880), meta=np.ndarray>\n",
      "    hf_dvdt_2d              (time, yq, xh) float32 dask.array<chunksize=(60, 2240, 2880), meta=np.ndarray>\n",
      "    hf_gKEu_2d              (time, yh, xq) float32 dask.array<chunksize=(60, 2240, 2880), meta=np.ndarray>\n",
      "    hf_gKEv_2d              (time, yq, xh) float32 dask.array<chunksize=(60, 2240, 2880), meta=np.ndarray>\n",
      "    hf_rvxu_2d              (time, yq, xh) float32 dask.array<chunksize=(60, 2240, 2880), meta=np.ndarray>\n",
      "    hf_rvxv_2d              (time, yh, xq) float32 dask.array<chunksize=(60, 2240, 2880), meta=np.ndarray>\n",
      "    hf_u_BT_accel_2d        (time, yh, xq) float32 dask.array<chunksize=(60, 2240, 2880), meta=np.ndarray>\n",
      "    hf_v_BT_accel_2d        (time, yq, xh) float32 dask.array<chunksize=(60, 2240, 2880), meta=np.ndarray>\n",
      "    hfds                    (time, yh, xh) float32 dask.array<chunksize=(60, 2240, 2880), meta=np.ndarray>\n",
      "    hfevapds                (time, yh, xh) float32 dask.array<chunksize=(60, 2240, 2880), meta=np.ndarray>\n",
      "    hfibthermds             (time, yh, xh) float32 dask.array<chunksize=(60, 2240, 2880), meta=np.ndarray>\n",
      "    hflso                   (time, yh, xh) float32 dask.array<chunksize=(60, 2240, 2880), meta=np.ndarray>\n",
      "    hfrainds                (time, yh, xh) float32 dask.array<chunksize=(60, 2240, 2880), meta=np.ndarray>\n",
      "    hfrunoffds              (time, yh, xh) float32 dask.array<chunksize=(60, 2240, 2880), meta=np.ndarray>\n",
      "    hfsifrazil              (time, yh, xh) float32 dask.array<chunksize=(60, 2240, 2880), meta=np.ndarray>\n",
      "    hfsnthermds             (time, yh, xh) float32 dask.array<chunksize=(60, 2240, 2880), meta=np.ndarray>\n",
      "    hfsso                   (time, yh, xh) float32 dask.array<chunksize=(60, 2240, 2880), meta=np.ndarray>\n",
      "    mass_wt                 (time, yh, xh) float32 dask.array<chunksize=(60, 2240, 2880), meta=np.ndarray>\n",
      "    net_heat_coupler        (time, yh, xh) float32 dask.array<chunksize=(60, 2240, 2880), meta=np.ndarray>\n",
      "    net_massin              (time, yh, xh) float32 dask.array<chunksize=(60, 2240, 2880), meta=np.ndarray>\n",
      "    net_massout             (time, yh, xh) float32 dask.array<chunksize=(60, 2240, 2880), meta=np.ndarray>\n",
      "    nonpenSW                (time, yh, xh) float32 dask.array<chunksize=(60, 2240, 2880), meta=np.ndarray>\n",
      "    opottempmint            (time, yh, xh) float32 dask.array<chunksize=(60, 2240, 2880), meta=np.ndarray>\n",
      "    pbo                     (time, yh, xh) float32 dask.array<chunksize=(60, 2240, 2880), meta=np.ndarray>\n",
      "    prlq                    (time, yh, xh) float32 dask.array<chunksize=(60, 2240, 2880), meta=np.ndarray>\n",
      "    prsn                    (time, yh, xh) float32 dask.array<chunksize=(60, 2240, 2880), meta=np.ndarray>\n",
      "    rlntds                  (time, yh, xh) float32 dask.array<chunksize=(60, 2240, 2880), meta=np.ndarray>\n",
      "    rsdo                    (time, zi, yh, xh) float32 dask.array<chunksize=(60, 76, 2240, 2880), meta=np.ndarray>\n",
      "    rsntds                  (time, yh, xh) float32 dask.array<chunksize=(60, 2240, 2880), meta=np.ndarray>\n",
      "    sfdsi                   (time, yh, xh) float32 dask.array<chunksize=(60, 2240, 2880), meta=np.ndarray>\n",
      "    somint                  (time, yh, xh) float32 dask.array<chunksize=(60, 2240, 2880), meta=np.ndarray>\n",
      "    tauuo                   (time, yh, xq) float32 dask.array<chunksize=(60, 2240, 2880), meta=np.ndarray>\n",
      "    tauvo                   (time, yq, xh) float32 dask.array<chunksize=(60, 2240, 2880), meta=np.ndarray>\n",
      "    taux                    (time, yh, xq) float32 dask.array<chunksize=(60, 2240, 2880), meta=np.ndarray>\n",
      "    taux_bot                (time, yh, xq) float32 dask.array<chunksize=(60, 2240, 2880), meta=np.ndarray>\n",
      "    tauy                    (time, yq, xh) float32 dask.array<chunksize=(60, 2240, 2880), meta=np.ndarray>\n",
      "    tauy_bot                (time, yq, xh) float32 dask.array<chunksize=(60, 2240, 2880), meta=np.ndarray>\n",
      "    ubt_dt                  (time, yh, xq) float32 dask.array<chunksize=(60, 2240, 2880), meta=np.ndarray>\n",
      "    ustar                   (time, yh, xh) float32 dask.array<chunksize=(60, 2240, 2880), meta=np.ndarray>\n",
      "    vbt_dt                  (time, yq, xh) float32 dask.array<chunksize=(60, 2240, 2880), meta=np.ndarray>\n",
      "    wfo                     (time, yh, xh) float32 dask.array<chunksize=(60, 2240, 2880), meta=np.ndarray>\n",
      "    Coriolis                (yq, xq) float32 ...\n",
      "    areacello               (yh, xh) float32 ...\n",
      "    areacello_bu            (yq, xq) float32 ...\n",
      "    areacello_cu            (yh, xq) float32 ...\n",
      "    areacello_cv            (yq, xh) float32 ...\n",
      "    deptho                  (yh, xh) float32 ...\n",
      "    dxCu                    (yh, xq) float32 ...\n",
      "    dxCv                    (yq, xh) float32 ...\n",
      "    dxt                     (yh, xh) float32 ...\n",
      "    dyCu                    (yh, xq) float32 ...\n",
      "    dyCv                    (yq, xh) float32 ...\n",
      "    dyt                     (yh, xh) float32 ...\n",
      "    geolat                  (yh, xh) float32 ...\n",
      "    geolat_c                (yq, xq) float32 ...\n",
      "    geolat_u                (yh, xq) float32 ...\n",
      "    geolat_v                (yq, xh) float32 ...\n",
      "    geolon                  (yh, xh) float32 ...\n",
      "    geolon_c                (yq, xq) float32 ...\n",
      "    geolon_u                (yh, xq) float32 ...\n",
      "    geolon_v                (yq, xh) float32 ...\n",
      "    hfgeou                  (yh, xh) float32 ...\n",
      "    sftof                   (yh, xh) float32 ...\n",
      "    wet                     (yh, xh) float32 ...\n",
      "    wet_c                   (yq, xq) float32 ...\n",
      "    wet_u                   (yh, xq) float32 ...\n",
      "    wet_v                   (yq, xh) float32 ...\n",
      "    basin                   (yh, xh) float32 ...\n"
     ]
    }
   ],
   "source": [
    "print(ds_full)"
   ]
  },
  {
   "cell_type": "code",
   "execution_count": 18,
   "metadata": {},
   "outputs": [
    {
     "name": "stderr",
     "output_type": "stream",
     "text": [
      "distributed.nanny - WARNING - Worker process still alive after 3 seconds, killing\n",
      "distributed.nanny - WARNING - Worker process still alive after 3 seconds, killing\n"
     ]
    }
   ],
   "source": [
    "drop_var = ['Heat_PmE', 'LwLatSens', 'col_mass', 'evs', 'ficeberg', 'friver','fsitherm','heat_content_cond', \n",
    "           'heat_content_fprec','heat_content_massin', 'heat_content_massout', 'heat_content_surfwater',\n",
    "           'hfds', 'hfevapds', 'hfibthermds', 'hflso', 'hfrainds', 'hfrunoffds', 'hfsifrazil', 'hfsnthermds', \n",
    "           'hfsso', 'mass_wt', 'net_heat_coupler', 'net_massin', 'net_massout', 'nonpenSW', 'opottempmint',\n",
    "          'prlq', 'prsn', 'rlntds', 'rsdo', 'rsntds', 'sfdsi', 'somint', 'tauuo', 'tauvo', 'ustar']\n",
    "\n",
    "ds_save = ds_full.drop(drop_var)\n",
    "\n",
    "ds_save = ds_save.mean('time')"
   ]
  },
  {
   "cell_type": "code",
   "execution_count": 21,
   "metadata": {},
   "outputs": [],
   "source": [
    "vmo_2d = (ds_vmo['vmo'].isel(yq=slice(1,2241),time=slice(0,5)).mean('time')).sum('z_l')\n",
    "\n",
    "umo_2d = (ds_umo['umo'].isel(xq=slice(1,2881),time=slice(0,5)).mean('time')).sum('z_l')\n",
    "\n",
    "ds_save = xr.merge([ds_save, vmo_2d, umo_2d])"
   ]
  },
  {
   "cell_type": "code",
   "execution_count": 15,
   "metadata": {},
   "outputs": [],
   "source": [
    "#print(list(ds_full.keys()))"
   ]
  },
  {
   "cell_type": "code",
   "execution_count": 24,
   "metadata": {},
   "outputs": [
    {
     "name": "stdout",
     "output_type": "stream",
     "text": [
      "<xarray.Dataset>\n",
      "Dimensions:           (nv: 2, xh: 2880, xq: 2880, yh: 2240, yq: 2240, zi: 76)\n",
      "Coordinates:\n",
      "  * nv                (nv) float64 1.0 2.0\n",
      "  * xh                (xh) float64 -298.6 -298.5 -298.4 ... 61.05 61.16 61.28\n",
      "  * yh                (yh) float64 -83.62 -83.58 -83.54 ... 89.86 89.92 89.97\n",
      "  * xq                (xq) float64 -298.5 -298.4 -298.3 ... 61.12 61.23 61.35\n",
      "  * yq                (yq) float64 -83.6 -83.56 -83.52 ... 89.89 89.95 90.0\n",
      "  * zi                (zi) float64 0.0 2.0 4.0 ... 3.461e+03 3.722e+03 6.5e+03\n",
      "Data variables:\n",
      "    average_DT        timedelta64[ns] dask.array<chunksize=(), meta=np.ndarray>\n",
      "    col_height        (yh, xh) float32 dask.array<chunksize=(2240, 2880), meta=np.ndarray>\n",
      "    hf_CAu_2d         (yh, xq) float32 dask.array<chunksize=(2240, 2880), meta=np.ndarray>\n",
      "    hf_CAv_2d         (yq, xh) float32 dask.array<chunksize=(2240, 2880), meta=np.ndarray>\n",
      "    hf_PFu_2d         (yh, xq) float32 dask.array<chunksize=(2240, 2880), meta=np.ndarray>\n",
      "    hf_PFv_2d         (yq, xh) float32 dask.array<chunksize=(2240, 2880), meta=np.ndarray>\n",
      "    hf_diffu_2d       (yh, xq) float32 dask.array<chunksize=(2240, 2880), meta=np.ndarray>\n",
      "    hf_diffv_2d       (yq, xh) float32 dask.array<chunksize=(2240, 2880), meta=np.ndarray>\n",
      "    hf_du_dt_visc_2d  (yh, xq) float32 dask.array<chunksize=(2240, 2880), meta=np.ndarray>\n",
      "    hf_dudt_2d        (yh, xq) float32 dask.array<chunksize=(2240, 2880), meta=np.ndarray>\n",
      "    hf_dv_dt_visc_2d  (yq, xh) float32 dask.array<chunksize=(2240, 2880), meta=np.ndarray>\n",
      "    hf_dvdt_2d        (yq, xh) float32 dask.array<chunksize=(2240, 2880), meta=np.ndarray>\n",
      "    hf_gKEu_2d        (yh, xq) float32 dask.array<chunksize=(2240, 2880), meta=np.ndarray>\n",
      "    hf_gKEv_2d        (yq, xh) float32 dask.array<chunksize=(2240, 2880), meta=np.ndarray>\n",
      "    hf_rvxu_2d        (yq, xh) float32 dask.array<chunksize=(2240, 2880), meta=np.ndarray>\n",
      "    hf_rvxv_2d        (yh, xq) float32 dask.array<chunksize=(2240, 2880), meta=np.ndarray>\n",
      "    hf_u_BT_accel_2d  (yh, xq) float32 dask.array<chunksize=(2240, 2880), meta=np.ndarray>\n",
      "    hf_v_BT_accel_2d  (yq, xh) float32 dask.array<chunksize=(2240, 2880), meta=np.ndarray>\n",
      "    pbo               (yh, xh) float32 dask.array<chunksize=(2240, 2880), meta=np.ndarray>\n",
      "    taux              (yh, xq) float32 dask.array<chunksize=(2240, 2880), meta=np.ndarray>\n",
      "    taux_bot          (yh, xq) float32 dask.array<chunksize=(2240, 2880), meta=np.ndarray>\n",
      "    tauy              (yq, xh) float32 dask.array<chunksize=(2240, 2880), meta=np.ndarray>\n",
      "    tauy_bot          (yq, xh) float32 dask.array<chunksize=(2240, 2880), meta=np.ndarray>\n",
      "    ubt_dt            (yh, xq) float32 dask.array<chunksize=(2240, 2880), meta=np.ndarray>\n",
      "    vbt_dt            (yq, xh) float32 dask.array<chunksize=(2240, 2880), meta=np.ndarray>\n",
      "    wfo               (yh, xh) float32 dask.array<chunksize=(2240, 2880), meta=np.ndarray>\n",
      "    Coriolis          (yq, xq) float32 -0.00014457387 ... 0.00013111717\n",
      "    areacello         (yh, xh) float32 6558244.0 6557690.5 ... 76604.125\n",
      "    areacello_bu      (yq, xq) float32 6573536.0 6572972.0 ... 38352.16\n",
      "    areacello_cu      (yh, xq) float32 0.0 0.0 0.0 0.0 0.0 ... 0.0 0.0 0.0 0.0\n",
      "    areacello_cv      (yq, xh) float32 0.0 0.0 0.0 0.0 0.0 ... 0.0 0.0 0.0 0.0\n",
      "    deptho            (yh, xh) float32 nan nan nan nan nan ... nan nan nan nan\n",
      "    dxCu              (yh, xq) float32 1705.979 1706.2922 ... 6074.277 6083.2065\n",
      "    dxCv              (yq, xh) float32 1710.8722 1711.1858 ... 6068.337 6080.228\n",
      "    dxt               (yh, xh) float32 1705.8218 1706.1359 ... 6068.337 6080.228\n",
      "    dyCu              (yh, xq) float32 3844.112 3843.083 ... 0.024693977\n",
      "    dyCv              (yq, xh) float32 3842.383 3841.3486 ... 37.74737 12.607132\n",
      "    dyt               (yh, xh) float32 3844.6287 3843.5967 ... 12.60712\n",
      "    geolat            (yh, xh) float32 -82.456726 -82.4552 ... 64.11359 64.05896\n",
      "    geolat_c          (yq, xq) float32 -82.43877 -82.43725 ... 64.08629 64.03161\n",
      "    geolat_u          (yh, xq) float32 -82.45596 -82.45444 ... 64.08629 64.03161\n",
      "    geolat_v          (yq, xh) float32 -82.43954 -82.438 ... 64.11359 64.05896\n",
      "    geolon            (yh, xh) float32 -298.59146 -298.4752 ... 59.99987\n",
      "    geolon_c          (yq, xq) float32 -298.54663 -298.43027 ... -300.0 -300.0\n",
      "    geolon_u          (yh, xq) float32 -298.53333 -298.41705 ... 59.99974 60.0\n",
      "    geolon_v          (yq, xh) float32 -298.6048 -298.48843 ... -300.0 -300.0\n",
      "    hfgeou            (yh, xh) float32 0.0 0.0 0.0 0.0 0.0 ... 0.0 0.0 0.0 0.0\n",
      "    sftof             (yh, xh) float32 0.0 0.0 0.0 0.0 0.0 ... 0.0 0.0 0.0 0.0\n",
      "    wet               (yh, xh) float32 0.0 0.0 0.0 0.0 0.0 ... 0.0 0.0 0.0 0.0\n",
      "    wet_c             (yq, xq) float32 0.0 0.0 0.0 0.0 0.0 ... 0.0 0.0 0.0 0.0\n",
      "    wet_u             (yh, xq) float32 0.0 0.0 0.0 0.0 0.0 ... 0.0 0.0 0.0 0.0\n",
      "    wet_v             (yq, xh) float32 0.0 0.0 0.0 0.0 0.0 ... 0.0 0.0 0.0 0.0\n",
      "    basin             (yh, xh) float32 0.0 0.0 0.0 0.0 0.0 ... 0.0 0.0 0.0 0.0\n",
      "    vmo               (yq, xh) float32 0.0 0.0 0.0 0.0 0.0 ... 0.0 0.0 0.0 0.0\n",
      "    umo               (yh, xq) float32 0.0 0.0 0.0 0.0 0.0 ... 0.0 0.0 0.0 0.0\n"
     ]
    }
   ],
   "source": [
    "print(ds_save)\n",
    "\n",
    "ds_save.to_netcdf(\"/work/Hemant.Khatri/MOM6_idealised/MOM_budget/Global_125/Mom_Budget_mean_0001-0005.nc\")"
   ]
  },
  {
   "cell_type": "code",
   "execution_count": 23,
   "metadata": {},
   "outputs": [
    {
     "name": "stdout",
     "output_type": "stream",
     "text": [
      "1.393541752\n"
     ]
    }
   ],
   "source": [
    "print(ds_save.nbytes/1e9)"
   ]
  },
  {
   "cell_type": "code",
   "execution_count": 25,
   "metadata": {},
   "outputs": [],
   "source": [
    "ds_save.close()\n",
    "ds.umo.close()\n",
    "ds.vmo.close()\n",
    "ds_full.close()\n",
    "client.close()\n",
    "cluster.close()"
   ]
  },
  {
   "cell_type": "code",
   "execution_count": null,
   "metadata": {},
   "outputs": [],
   "source": []
  }
 ],
 "metadata": {
  "kernelspec": {
   "display_name": "Python 3",
   "language": "python",
   "name": "python3"
  },
  "language_info": {
   "codemirror_mode": {
    "name": "ipython",
    "version": 3
   },
   "file_extension": ".py",
   "mimetype": "text/x-python",
   "name": "python",
   "nbconvert_exporter": "python",
   "pygments_lexer": "ipython3",
   "version": "3.7.9"
  }
 },
 "nbformat": 4,
 "nbformat_minor": 4
}
