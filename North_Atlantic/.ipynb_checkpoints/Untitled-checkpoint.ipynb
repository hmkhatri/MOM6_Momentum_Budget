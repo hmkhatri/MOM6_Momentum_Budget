{
 "cells": [
  {
   "cell_type": "markdown",
   "metadata": {},
   "source": [
    "## Vorticity budgets in 1/4$^{\\circ}$ vs 1/8$^{\\circ}$\n",
    "\n",
    "In this notebook, we compare the vorticity budget terms in simulations having two different resolutions. The budget terms are interpolated on the same grid for easier comparison. Moreoever, the effect of spatial filtering is also examined."
   ]
  },
  {
   "cell_type": "code",
   "execution_count": 1,
   "metadata": {},
   "outputs": [],
   "source": [
    "import xarray as xr\n",
    "import numpy as np\n",
    "from xgcm import Grid\n",
    "import xesmf as xe\n",
    "import gcm_filters\n",
    "%matplotlib inline\n",
    "import warnings\n",
    "warnings.filterwarnings('ignore')\n",
    "import matplotlib.pyplot as plt\n",
    "import matplotlib.ticker as mticker\n",
    "from cartopy.mpl.gridliner import LONGITUDE_FORMATTER, LATITUDE_FORMATTER\n",
    "import cartopy.crs as ccrs\n",
    "import cartopy.feature as cfeature\n",
    "\n",
    "from dask.distributed import Client\n",
    "from dask.distributed import LocalCluster\n",
    "cluster = LocalCluster()\n",
    "client = Client(cluster)\n",
    "\n",
    "client"
   ]
  },
  {
   "cell_type": "code",
   "execution_count": 2,
   "metadata": {},
   "outputs": [],
   "source": [
    "def plot_sec(ax, da, vmin=-999, vmax=999, vstep=1, lat_lon_ext = [-180, 180, -85., 85.],\n",
    "             lon='geolon', lat='geolat', cmap='RdBu_r', title='what is it?'):\n",
    "    \n",
    "    contours = np.arange(vmin, vmax+vstep, vstep)\n",
    "    \n",
    "    p = da.plot(ax=ax, x=lon, y=lat, vmin=vmin, vmax=vmax, cmap=cmap, \n",
    "                transform=ccrs.PlateCarree(), add_labels=False, add_colorbar=False)\n",
    "    \n",
    "    # add separate colorbar\n",
    "    cb = plt.colorbar(p, ax=ax, extend='both', orientation=\"horizontal\", shrink=0.6)\n",
    "    cb.ax.tick_params(labelsize=12)\n",
    "    \n",
    "    ax.set_extent(lat_lon_ext, crs=ccrs.PlateCarree())\n",
    "    \n",
    "    # parallels/meridiens\n",
    "    gl = ax.gridlines(crs=ccrs.PlateCarree(), draw_labels=True,\n",
    "                      linewidth=2, color='gray', alpha=0.5, linestyle='--')\n",
    "    gl.xlabels_top = False\n",
    "    gl.ylabels_right = False\n",
    "    #gl.ylocator = mticker.FixedLocator([-80, -70, -60, -50, -40, -30])\n",
    "    gl.xformatter = LONGITUDE_FORMATTER\n",
    "    gl.yformatter = LATITUDE_FORMATTER\n",
    "    gl.xlabel_style = {'size': 12, 'color': 'black'}\n",
    "    gl.ylabel_style = {'size': 12, 'color': 'black'}\n",
    "    \n",
    "    #ax.set_adjustable('datalim')\n",
    "    \n",
    "    ax.set_aspect(1.0)\n",
    "\n",
    "    #p.axes.gridlines(color='black', alpha=0.5, linestyle='--')\n",
    "    \n",
    "    _ = plt.title(title, fontsize=14)\n",
    "    return fig"
   ]
  },
  {
   "cell_type": "markdown",
   "metadata": {},
   "source": [
    "#### Read Data"
   ]
  },
  {
   "cell_type": "code",
   "execution_count": 5,
   "metadata": {},
   "outputs": [],
   "source": [
    "ppdir = \"/archive/Hemant.Khatri/MOM_Budget/\"\n",
    "\n",
    "ds_p25 = xr.open_dataset(ppdir + \"OM4p25/OM4p25_Vorticity_Budget.nc\", decode_times = False, chunks = {'time':1})\n",
    "\n",
    "ds_p125 = xr.open_dataset(ppdir + \"OM4p125/OM4p125_Vorticity_Budget.nc\", decode_times = False, chunks = {'time':1})\n",
    "\n",
    "# take time-mean for 100 - 145 years\n",
    "\n",
    "ds_p25 = ds_p25.isel(time = slice(20, 29)).mean('time')\n",
    "ds_p125 = ds_p125.isel(time = slice(20, 29)).mean('time')"
   ]
  },
  {
   "cell_type": "code",
   "execution_count": 11,
   "metadata": {},
   "outputs": [
    {
     "name": "stdout",
     "output_type": "stream",
     "text": [
      "<xarray.Dataset>\n",
      "Dimensions:       (xh: 1440, xq: 1440, yh: 1080, yq: 1080)\n",
      "Coordinates:\n",
      "  * xq            (xq) float64 -299.6 -299.3 -299.1 -298.9 ... 59.66 59.91 60.16\n",
      "  * yq            (yq) float64 -80.35 -80.27 -80.19 -80.11 ... 89.78 89.89 90.0\n",
      "  * xh            (xh) float64 -299.7 -299.5 -299.2 -299.0 ... 59.53 59.78 60.03\n",
      "  * yh            (yh) float64 -80.39 -80.31 -80.23 -80.15 ... 89.73 89.84 89.95\n",
      "Data variables:\n",
      "    beta_V        (yq, xq) float32 0.0 0.0 0.0 0.0 0.0 ... 0.0 0.0 0.0 0.0 0.0\n",
      "    BPT           (yq, xq) float64 nan nan nan nan nan ... nan nan nan nan nan\n",
      "    Curl_Adv      (yq, xq) float64 nan nan nan nan nan ... nan nan nan nan nan\n",
      "    Curl_taus     (yq, xq) float64 nan nan nan nan nan ... nan nan nan nan nan\n",
      "    Curl_taub     (yq, xq) float64 nan nan nan nan nan ... nan nan nan nan nan\n",
      "    Curl_diff     (yq, xq) float64 nan nan nan nan nan ... nan nan nan nan nan\n",
      "    Mass_flux     (yq, xq) float32 nan nan nan nan nan ... nan nan nan nan nan\n",
      "    eta_dt        (yq, xq) float32 nan nan nan nan nan ... nan nan nan nan nan\n",
      "    Curl_dudt     (yq, xq) float64 nan nan nan nan nan ... nan nan nan nan nan\n",
      "    Coriolis      (yq, xq) float32 -0.0001435255 ... 0.00013114764\n",
      "    areacello     (yh, xh) float32 34391132.0 34370084.0 ... 2096784.4 905338.5\n",
      "    areacello_bu  (yq, xq) float32 34457310.0 34436164.0 ... 1203488.5 455034.1\n",
      "    areacello_cu  (yh, xq) float32 0.0 0.0 0.0 0.0 0.0 ... 0.0 0.0 0.0 0.0 0.0\n",
      "    areacello_cv  (yq, xh) float32 0.0 0.0 0.0 0.0 0.0 ... 0.0 0.0 0.0 0.0 0.0\n",
      "    deptho        (yh, xh) float32 nan nan nan nan nan ... nan nan nan nan nan\n",
      "    dxCu          (yh, xq) float32 4888.015 4888.6846 ... 12126.242 12161.88\n",
      "    dxCv          (yq, xh) float32 4904.085 4904.7485 ... 12102.591 12149.984\n",
      "    dxt           (yh, xh) float32 4887.6772 4888.3506 ... 12102.592 12149.985\n",
      "    dyCu          (yh, xq) float32 7044.184 7038.9375 ... 99.31885 0.19470023\n",
      "    dyCv          (yq, xh) float32 7038.8716 7033.582 ... 148.68771 49.75697\n",
      "    dyt           (yh, xh) float32 7046.8306 7041.553 ... 148.68712 49.75677\n",
      "    geolat        (yh, xh) float32 -79.80674 -79.80527 ... 64.22252 64.11359\n",
      "    geolat_c      (yq, xq) float32 -79.7744 -79.77296 ... 64.168106 64.05896\n",
      "    geolat_u      (yh, xq) float32 -79.80601 -79.80454 ... 64.168106 64.05896\n",
      "    geolat_v      (yq, xh) float32 -79.77512 -79.773674 ... 64.22252 64.11359\n",
      "    geolon        (yh, xh) float32 -299.71835 -299.47037 ... 59.998463 59.99949\n",
      "    geolon_c      (yq, xq) float32 -299.60022 -299.35217 ... 60.0 60.0\n",
      "    geolon_u      (yh, xq) float32 -299.59436 -299.34637 ... 59.998978 60.0\n",
      "    geolon_v      (yq, xh) float32 -299.72424 -299.4762 -299.22815 ... 60.0 60.0\n",
      "    hfgeou        (yh, xh) float32 0.0 0.0 0.0 0.0 0.0 ... 0.0 0.0 0.0 0.0 0.0\n",
      "    sftof         (yh, xh) float32 0.0 0.0 0.0 0.0 0.0 ... 0.0 0.0 0.0 0.0 0.0\n",
      "    wet           (yh, xh) float32 0.0 0.0 0.0 0.0 0.0 ... 0.0 0.0 0.0 0.0 0.0\n",
      "    wet_c         (yq, xq) float32 0.0 0.0 0.0 0.0 0.0 ... 0.0 0.0 0.0 0.0 0.0\n",
      "    wet_u         (yh, xq) float32 0.0 0.0 0.0 0.0 0.0 ... 0.0 0.0 0.0 0.0 0.0\n",
      "    wet_v         (yq, xh) float32 0.0 0.0 0.0 0.0 0.0 ... 0.0 0.0 0.0 0.0 0.0\n"
     ]
    }
   ],
   "source": [
    "print(ds_p25)"
   ]
  },
  {
   "cell_type": "code",
   "execution_count": null,
   "metadata": {},
   "outputs": [],
   "source": []
  }
 ],
 "metadata": {
  "kernelspec": {
   "display_name": "Python 3",
   "language": "python",
   "name": "python3"
  },
  "language_info": {
   "codemirror_mode": {
    "name": "ipython",
    "version": 3
   },
   "file_extension": ".py",
   "mimetype": "text/x-python",
   "name": "python",
   "nbconvert_exporter": "python",
   "pygments_lexer": "ipython3",
   "version": "3.7.9"
  }
 },
 "nbformat": 4,
 "nbformat_minor": 4
}
